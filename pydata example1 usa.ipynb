{
 "cells": [
  {
   "cell_type": "code",
   "execution_count": 1,
   "metadata": {
    "collapsed": true
   },
   "outputs": [],
   "source": [
    "import os\n",
    "import json\n",
    "import pandas as pd\n",
    "import numpy as np\n",
    "from collections import defaultdict"
   ]
  },
  {
   "cell_type": "code",
   "execution_count": 5,
   "metadata": {
    "collapsed": false
   },
   "outputs": [
    {
     "data": {
      "text/plain": [
       "{u'a': u'Mozilla/5.0 (Windows NT 6.1; WOW64) AppleWebKit/535.11 (KHTML, like Gecko) Chrome/17.0.963.78 Safari/535.11',\n",
       " u'al': u'en-US,en;q=0.8',\n",
       " u'c': u'US',\n",
       " u'cy': u'Danvers',\n",
       " u'g': u'A6qOVH',\n",
       " u'gr': u'MA',\n",
       " u'h': u'wfLQtf',\n",
       " u'hc': 1331822918,\n",
       " u'hh': u'1.usa.gov',\n",
       " u'l': u'orofrog',\n",
       " u'll': [42.576698, -70.954903],\n",
       " u'nk': 1,\n",
       " u'r': u'http://www.facebook.com/l/7AQEFzjSi/1.usa.gov/wfLQtf',\n",
       " u't': 1331923247,\n",
       " u'tz': u'America/New_York',\n",
       " u'u': u'http://www.ncbi.nlm.nih.gov/pubmed/22415991'}"
      ]
     },
     "execution_count": 5,
     "metadata": {},
     "output_type": "execute_result"
    }
   ],
   "source": [
    "path='d:/project/0/src/python/pydata-book-master/ch02/usagov_bitly_data2012-03-16-1331923249.txt'\n",
    "records = [json.loads(line) for line in open(path)]\n",
    "records[0]"
   ]
  },
  {
   "cell_type": "code",
   "execution_count": 7,
   "metadata": {
    "collapsed": false
   },
   "outputs": [
    {
     "data": {
      "text/plain": [
       "[(33, u'America/Sao_Paulo'),\n",
       " (35, u'Europe/Madrid'),\n",
       " (36, u'Pacific/Honolulu'),\n",
       " (37, u'Asia/Tokyo'),\n",
       " (74, u'Europe/London'),\n",
       " (191, u'America/Denver'),\n",
       " (382, u'America/Los_Angeles'),\n",
       " (400, u'America/Chicago'),\n",
       " (521, u''),\n",
       " (1251, u'America/New_York')]"
      ]
     },
     "execution_count": 7,
     "metadata": {},
     "output_type": "execute_result"
    }
   ],
   "source": [
    "time_zones = [rec['tz'] for rec in records if 'tz' in rec]\n",
    "def get_count2(seq):\n",
    "    counts = defaultdict(int)\n",
    "    for x in seq:\n",
    "        counts[x] += 1\n",
    "    return counts\n",
    "counts = get_count2(time_zones)\n",
    "counts['America/New_York']\n",
    "def top_counts(count_dict, n=10):\n",
    "    value_key_pairs = [(count, tz) for tz, count in count_dict.items()]\n",
    "    value_key_pairs.sort()\n",
    "    return value_key_pairs[-n:]\n",
    "top_counts(counts)\n"
   ]
  },
  {
   "cell_type": "code",
   "execution_count": 11,
   "metadata": {
    "collapsed": false
   },
   "outputs": [],
   "source": [
    "frame = pd.DataFrame(records)\n",
    "tz_counts = frame['tz'].value_counts()\n",
    "tz_counts[:10]\n",
    "clean_tz = frame['tz'].fillna('missing')\n",
    "\n",
    "clean_tz.ix[3536]\n",
    "clean_tz[clean_tz=='']='unknown'\n",
    "tz_counts = clean_tz.value_counts()\n",
    "tz_counts[:10]\n",
    "results = pd.Series([x.split()[0] for x in frame.a.dropna()])\n",
    "results[:5]\n",
    "results.value_counts()[:5]\n",
    "cframe = frame[frame.a.notnull()]\n",
    "opt_sys = np.where(cframe['a'].str.contains('Windows'),'windowns','not windows')\n",
    "opt_sys\n",
    "by_tz_os = cframe.groupby(['tz',opt_sys])\n",
    "agg_counts = by_tz_os.size().unstack().fillna(0)\n",
    "agg_counts[:10]\n",
    "indexer = agg_counts.sum(1).argsort()\n",
    "indexer[:10]\n",
    "count_sub = agg_counts.take(indexer)[-10:]\n",
    "normed_subset = count_sub.div(count_sub.sum(1), axis=0)"
   ]
  },
  {
   "cell_type": "code",
   "execution_count": null,
   "metadata": {
    "collapsed": true
   },
   "outputs": [],
   "source": []
  }
 ],
 "metadata": {
  "kernelspec": {
   "display_name": "Python 2",
   "language": "python",
   "name": "python2"
  },
  "language_info": {
   "codemirror_mode": {
    "name": "ipython",
    "version": 2
   },
   "file_extension": ".py",
   "mimetype": "text/x-python",
   "name": "python",
   "nbconvert_exporter": "python",
   "pygments_lexer": "ipython2",
   "version": "2.7.11"
  }
 },
 "nbformat": 4,
 "nbformat_minor": 0
}
