{
 "cells": [
  {
   "cell_type": "code",
   "execution_count": 1,
   "metadata": {},
   "outputs": [],
   "source": [
    "import cv2\n",
    "import numpy as np\n",
    "import matplotlib.pyplot as plt\n",
    "\n",
    "%matplotlib inline"
   ]
  },
  {
   "cell_type": "code",
   "execution_count": null,
   "metadata": {},
   "outputs": [],
   "source": [
    "print(camera.get(cv2.CAP_PROP_FPS), camera.get(cv2.CAP_PROP_FORMAT), camera.get(cv2.CAP_PROP_FOURCC), camera.get(cv2.CAP_PROP_POS_MSEC))\n",
    "print(camera.get(cv2.CAP_PROP_FRAME_COUNT))"
   ]
  },
  {
   "cell_type": "code",
   "execution_count": 4,
   "metadata": {},
   "outputs": [],
   "source": [
    "def resize(image, width = None, height = None, inter = cv2.INTER_AREA):\n",
    "\t# initialize the dimensions of the image to be resized and\n",
    "\t# grab the image size\n",
    "\tdim = None\n",
    "\t(h, w) = image.shape[:2]\n",
    "\n",
    "\t# if both the width and height are None, then return the\n",
    "\t# original image\n",
    "\tif width is None and height is None:\n",
    "\t\treturn image\n",
    "\n",
    "\t# check to see if the width is None\n",
    "\tif width is None:\n",
    "\t\t# calculate the ratio of the height and construct the\n",
    "\t\t# dimensions\n",
    "\t\tr = height / float(h)\n",
    "\t\tdim = (int(w * r), height)\n",
    "\n",
    "\t# otherwise, the height is None\n",
    "\telse:\n",
    "\t\t# calculate the ratio of the width and construct the\n",
    "\t\t# dimensions\n",
    "\t\tr = width / float(w)\n",
    "\t\tdim = (width, int(h * r))\n",
    "\n",
    "\t# resize the image\n",
    "\tresized = cv2.resize(image, dim, interpolation = inter)\n",
    "\n",
    "\t# return the resized image\n",
    "\treturn resized"
   ]
  },
  {
   "cell_type": "code",
   "execution_count": 7,
   "metadata": {},
   "outputs": [
    {
     "name": "stdout",
     "output_type": "stream",
     "text": [
      "fps 24\n",
      "save 0\n",
      "save 24\n",
      "save 48\n",
      "save 72\n",
      "save 96\n",
      "save 120\n",
      "save 144\n",
      "save 168\n",
      "save 192\n",
      "save 216\n",
      "save 240\n",
      "save 264\n",
      "save 288\n",
      "save 312\n",
      "save 336\n",
      "save 360\n",
      "save 384\n"
     ]
    }
   ],
   "source": [
    "video_file = 'd:/tmp/video/a1.mp4'\n",
    "camera = cv2.VideoCapture(video_file)\n",
    "count = 0\n",
    "fps = int(camera.get(cv2.CAP_PROP_FPS))\n",
    "print('fps', fps)\n",
    "while True:\n",
    "    (grabbed, frame) = camera.read()\n",
    "    if not grabbed:\n",
    "        break\n",
    "    if count % fps == 0:\n",
    "#         gray = cv2.cvtColor(frame, cv2.COLOR_BGR2GRAY)\n",
    "        frame = resize(frame, width=300)\n",
    "        cv2.imwrite('d:/tmp/video/img_{}.jpg'.format(count), frame)\n",
    "        print('save', count)\n",
    "    count+=1\n",
    "#     frame = resize(frame, width=300)\n",
    "#     gray = cv2.cvtColor(frame, cv2.COLOR_BGR2GRAY)\n",
    "    if cv2.waitKey(1)&0xFF==ord('q'):\n",
    "        break\n",
    "camera.release()"
   ]
  },
  {
   "cell_type": "code",
   "execution_count": null,
   "metadata": {},
   "outputs": [],
   "source": []
  }
 ],
 "metadata": {
  "kernelspec": {
   "display_name": "Python 3",
   "language": "python",
   "name": "python3"
  },
  "language_info": {
   "codemirror_mode": {
    "name": "ipython",
    "version": 3
   },
   "file_extension": ".py",
   "mimetype": "text/x-python",
   "name": "python",
   "nbconvert_exporter": "python",
   "pygments_lexer": "ipython3",
   "version": "3.6.4"
  }
 },
 "nbformat": 4,
 "nbformat_minor": 2
}
