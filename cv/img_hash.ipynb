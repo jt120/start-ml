{
 "cells": [
  {
   "cell_type": "code",
   "execution_count": 1,
   "metadata": {},
   "outputs": [],
   "source": [
    "import cv2\n",
    "import os\n",
    "import numpy as np\n",
    "import matplotlib.pyplot as plt\n",
    "import PIL.Image as Image\n",
    "import glob\n",
    "import time\n",
    "%matplotlib inline"
   ]
  },
  {
   "cell_type": "code",
   "execution_count": null,
   "metadata": {},
   "outputs": [],
   "source": [
    "img = cv2.imread('e:/pics/test/img_10.jpg')\n",
    "img.shape"
   ]
  },
  {
   "cell_type": "code",
   "execution_count": null,
   "metadata": {},
   "outputs": [],
   "source": [
    "img = cv2.cvtColor(img, cv2.COLOR_BGR2GRAY)\n",
    "img.shape"
   ]
  },
  {
   "cell_type": "code",
   "execution_count": null,
   "metadata": {},
   "outputs": [],
   "source": [
    "img = cv2.resize(img, (9,8))"
   ]
  },
  {
   "cell_type": "code",
   "execution_count": null,
   "metadata": {},
   "outputs": [],
   "source": [
    "img.shape"
   ]
  },
  {
   "cell_type": "code",
   "execution_count": null,
   "metadata": {},
   "outputs": [],
   "source": [
    "diff = img[:, 1:] > img[:, :-1]\n",
    "diff"
   ]
  },
  {
   "cell_type": "code",
   "execution_count": null,
   "metadata": {},
   "outputs": [],
   "source": [
    "r = sum([2 ** i for (i, v) in enumerate(diff.flatten()) if v])\n",
    "print(r)\n",
    "print(type(r))"
   ]
  },
  {
   "cell_type": "code",
   "execution_count": null,
   "metadata": {},
   "outputs": [],
   "source": [
    "def dhash(file):\n",
    "    img = cv2.imread(file)\n",
    "    img = cv2.cvtColor(img, cv2.COLOR_BGR2GRAY)\n",
    "    img = cv2.resize(img, (9,8))\n",
    "    diff = img[:, 1:] > img[:, :-1]\n",
    "    return sum([2 ** i for (i, v) in enumerate(diff.flatten()) if v])"
   ]
  },
  {
   "cell_type": "code",
   "execution_count": null,
   "metadata": {},
   "outputs": [],
   "source": [
    "r1 = dhash('e:/pics/test/img_10.jpg')\n",
    "r2 = dhash('e:/pics/test/img10_1.jpg')\n",
    "print(r1==r2)"
   ]
  },
  {
   "cell_type": "code",
   "execution_count": null,
   "metadata": {},
   "outputs": [],
   "source": []
  },
  {
   "cell_type": "code",
   "execution_count": null,
   "metadata": {},
   "outputs": [],
   "source": [
    "import photohash\n",
    "distance = photohash.distance('e:/pics/test/img_10.jpg', 'e:/pics/test/img10_1.jpg')"
   ]
  },
  {
   "cell_type": "code",
   "execution_count": null,
   "metadata": {},
   "outputs": [],
   "source": [
    "distance"
   ]
  },
  {
   "cell_type": "code",
   "execution_count": null,
   "metadata": {},
   "outputs": [],
   "source": [
    "%timeit photohash.distance('e:/pics/test/img_10.jpg', 'e:/pics/test/img10_2.jpg')"
   ]
  },
  {
   "cell_type": "code",
   "execution_count": null,
   "metadata": {},
   "outputs": [],
   "source": [
    "photohash.distance('e:/pics/test/img_10.jpg', 'e:/pics/test/img_4.jpg')"
   ]
  },
  {
   "cell_type": "code",
   "execution_count": null,
   "metadata": {},
   "outputs": [],
   "source": [
    "photohash.average_hash('e:/pics/test/img_10.jpg')"
   ]
  },
  {
   "cell_type": "code",
   "execution_count": null,
   "metadata": {},
   "outputs": [],
   "source": [
    "photohash.average_hash('e:/pics/test/img10_2.jpg')"
   ]
  },
  {
   "cell_type": "code",
   "execution_count": null,
   "metadata": {},
   "outputs": [],
   "source": [
    "def hash_img(file):\n",
    "    img = Image.open(file)\n",
    "    img = img.resize((8,8),Image.ANTIALIAS).convert('L')\n",
    "    pixels = list(img.getdata())\n",
    "    avg = sum(pixels) / len(pixels)\n",
    "    bits = \"\".join(map(lambda pixel: '1' if pixel > avg else '0', pixels))\n",
    "    return bits\n",
    "bits = hash_img('e:/pics/test/img_10.jpg')\n",
    "bits"
   ]
  },
  {
   "cell_type": "code",
   "execution_count": null,
   "metadata": {},
   "outputs": [],
   "source": [
    "hashformat = \"0{hashlength}x\".format(hashlength=8 ** 2 // 4)"
   ]
  },
  {
   "cell_type": "code",
   "execution_count": null,
   "metadata": {},
   "outputs": [],
   "source": [
    "hashformat"
   ]
  },
  {
   "cell_type": "code",
   "execution_count": null,
   "metadata": {},
   "outputs": [],
   "source": [
    "int(bits, 2).__format__(hashformat)"
   ]
  },
  {
   "cell_type": "code",
   "execution_count": null,
   "metadata": {},
   "outputs": [],
   "source": [
    "img2 = hash_img('e:/pics/test/img10_1.jpg')\n",
    "img2"
   ]
  },
  {
   "cell_type": "code",
   "execution_count": null,
   "metadata": {},
   "outputs": [],
   "source": [
    "img2==bits"
   ]
  },
  {
   "cell_type": "code",
   "execution_count": null,
   "metadata": {},
   "outputs": [],
   "source": [
    "img3 = hash_img('e:/pics/test/img_4.jpg')\n",
    "img3"
   ]
  },
  {
   "cell_type": "code",
   "execution_count": null,
   "metadata": {},
   "outputs": [],
   "source": [
    "img.size\n",
    "#gray"
   ]
  },
  {
   "cell_type": "code",
   "execution_count": null,
   "metadata": {},
   "outputs": [],
   "source": [
    "np.array(img)==np.array(img2)"
   ]
  },
  {
   "cell_type": "code",
   "execution_count": 13,
   "metadata": {},
   "outputs": [],
   "source": [
    "def average_hash(image_path, hash_size=8):\n",
    "    \"\"\" Compute the average hash of the given image. \"\"\"\n",
    "    with open(image_path, 'rb') as f:\n",
    "        # Open the image, resize it and convert it to black & white.\n",
    "        image = Image.open(f).resize((hash_size, hash_size), Image.ANTIALIAS).convert('L')\n",
    "        pixels = list(image.getdata())\n",
    "\n",
    "    avg = sum(pixels) / len(pixels)\n",
    "\n",
    "    # Compute the hash based on each pixels value compared to the average.\n",
    "    bits = \"\".join(map(lambda pixel: '1' if pixel > avg else '0', pixels))\n",
    "    hashformat = \"0{hashlength}x\".format(hashlength=hash_size ** 2 // 4)\n",
    "    return int(bits, 2).__format__(hashformat)\n",
    "\n",
    "# compare bit each by each\n",
    "def distance(left_hash, right_hash):\n",
    "    if len(left_hash)!=len(right_hash):\n",
    "        raise ValueError('hamming distance not match length')\n",
    "    return sum(map(lambda x: 0 if x[0] == x[1] else 1, zip(left_hash, right_hash)))\n",
    "\n",
    "def to_numpy(s):\n",
    "    return np.array([x for x in s])"
   ]
  },
  {
   "cell_type": "code",
   "execution_count": null,
   "metadata": {},
   "outputs": [],
   "source": [
    "for i,f in enumerate(glob.glob('e:/pics/mag/*.jpg')):\n",
    "    print(f)\n",
    "    break"
   ]
  },
  {
   "cell_type": "code",
   "execution_count": null,
   "metadata": {},
   "outputs": [],
   "source": [
    "features = []\n",
    "for i,f in enumerate(glob.glob('e:/pics/mag/*.jpg')):\n",
    "    try:\n",
    "        tic = time.time()\n",
    "        h = average_hash(f)\n",
    "        h = to_numpy(h)\n",
    "        toc = time.time()\n",
    "        if i%100==0:\n",
    "            print('ok', len(features), (toc-tic))\n",
    "        features.append(h)\n",
    "    except Exception as e:\n",
    "        print('fail', f, e)\n",
    "#     break\n",
    "    \n"
   ]
  },
  {
   "cell_type": "code",
   "execution_count": null,
   "metadata": {},
   "outputs": [],
   "source": [
    "features = np.array(features)\n",
    "print(features.shape)"
   ]
  },
  {
   "cell_type": "code",
   "execution_count": null,
   "metadata": {},
   "outputs": [],
   "source": [
    "a = average_hash('e:/pics/test/img_4.jpg')\n",
    "b = average_hash('e:/pics/test/img_10.jpg')\n",
    "print(a, b)\n",
    "print(distance(a, b))"
   ]
  },
  {
   "cell_type": "code",
   "execution_count": null,
   "metadata": {},
   "outputs": [],
   "source": [
    "a = average_hash('e:/pics/test/img10_1.jpg')\n",
    "b = average_hash('e:/pics/test/img_10.jpg')\n",
    "c = average_hash('e:/pics/test/img_4.jpg')\n",
    "print(a, b)\n",
    "print(distance(a, b))"
   ]
  },
  {
   "cell_type": "code",
   "execution_count": null,
   "metadata": {},
   "outputs": [],
   "source": [
    "%timeit distance(a, b)\n",
    "# 3.06us for two compare, but what for n? nx3us?\n"
   ]
  },
  {
   "cell_type": "code",
   "execution_count": null,
   "metadata": {},
   "outputs": [],
   "source": [
    "b = np.array([x for x in b])\n",
    "c = np.array([x for x in c])\n",
    "features = np.array([b,c])\n",
    "print(features.shape)"
   ]
  },
  {
   "cell_type": "code",
   "execution_count": null,
   "metadata": {},
   "outputs": [],
   "source": [
    "a = np.array([x for x in a])"
   ]
  },
  {
   "cell_type": "code",
   "execution_count": null,
   "metadata": {},
   "outputs": [],
   "source": []
  },
  {
   "cell_type": "code",
   "execution_count": null,
   "metadata": {},
   "outputs": [],
   "source": []
  },
  {
   "cell_type": "code",
   "execution_count": null,
   "metadata": {},
   "outputs": [],
   "source": [
    "a = average_hash('e:/pics/test/img_308.jpg')\n",
    "a = to_numpy(a)\n",
    "print(features.shape)\n",
    "a = a.reshape(1,-1)\n",
    "print(a.shape)\n",
    "bindiff = a!=features\n",
    "hammingdiff = bindiff.sum(axis=1)\n",
    "rank = np.argsort(hammingdiff)\n",
    "print('min', np.min(hammingdiff))\n",
    "print(rank)"
   ]
  },
  {
   "cell_type": "code",
   "execution_count": null,
   "metadata": {},
   "outputs": [],
   "source": [
    "np.sort(hammingdiff)[:10]"
   ]
  },
  {
   "cell_type": "code",
   "execution_count": null,
   "metadata": {},
   "outputs": [],
   "source": [
    "np.min(hammingdiff)"
   ]
  },
  {
   "cell_type": "code",
   "execution_count": null,
   "metadata": {},
   "outputs": [],
   "source": [
    "np.argmin(hammingdiff.reshape(1,-1), axis=1)"
   ]
  },
  {
   "cell_type": "code",
   "execution_count": null,
   "metadata": {},
   "outputs": [],
   "source": [
    "hammingdiff.shape"
   ]
  },
  {
   "cell_type": "code",
   "execution_count": 5,
   "metadata": {},
   "outputs": [
    {
     "data": {
      "text/plain": [
       "array([0, 1], dtype=int64)"
      ]
     },
     "execution_count": 5,
     "metadata": {},
     "output_type": "execute_result"
    }
   ],
   "source": [
    "a = np.array([10,11,5,0,1,9])\n",
    "np.argsort(a[a<=1])"
   ]
  },
  {
   "cell_type": "code",
   "execution_count": 11,
   "metadata": {},
   "outputs": [],
   "source": [
    "r = np.where(a<=1)[0]"
   ]
  },
  {
   "cell_type": "code",
   "execution_count": 12,
   "metadata": {},
   "outputs": [
    {
     "data": {
      "text/plain": [
       "2"
      ]
     },
     "execution_count": 12,
     "metadata": {},
     "output_type": "execute_result"
    }
   ],
   "source": [
    "r.size"
   ]
  },
  {
   "cell_type": "code",
   "execution_count": 10,
   "metadata": {},
   "outputs": [
    {
     "data": {
      "text/plain": [
       "[3, 4]"
      ]
     },
     "execution_count": 10,
     "metadata": {},
     "output_type": "execute_result"
    }
   ],
   "source": [
    "r.tolist()"
   ]
  },
  {
   "cell_type": "code",
   "execution_count": 25,
   "metadata": {},
   "outputs": [],
   "source": [
    "a = average_hash('d:/tmp/a.jpg')\n",
    "b = average_hash('d:/tmp/a1.jpg')"
   ]
  },
  {
   "cell_type": "code",
   "execution_count": 26,
   "metadata": {},
   "outputs": [],
   "source": [
    "a = to_numpy(a)\n",
    "b = to_numpy(b)"
   ]
  },
  {
   "cell_type": "code",
   "execution_count": 27,
   "metadata": {},
   "outputs": [],
   "source": [
    "f = np.array([a,b,a])"
   ]
  },
  {
   "cell_type": "code",
   "execution_count": 29,
   "metadata": {},
   "outputs": [
    {
     "data": {
      "text/plain": [
       "(1, 16)"
      ]
     },
     "execution_count": 29,
     "metadata": {},
     "output_type": "execute_result"
    }
   ],
   "source": [
    "b = b.reshape(1,-1)\n",
    "b.shape"
   ]
  },
  {
   "cell_type": "code",
   "execution_count": 39,
   "metadata": {},
   "outputs": [],
   "source": [
    "ids = np.array(['a','b','a'])"
   ]
  },
  {
   "cell_type": "code",
   "execution_count": 31,
   "metadata": {},
   "outputs": [],
   "source": [
    "s = (f!=b).sum(axis=1)"
   ]
  },
  {
   "cell_type": "code",
   "execution_count": 35,
   "metadata": {},
   "outputs": [],
   "source": [
    "index = np.where(s<=1)[0]"
   ]
  },
  {
   "cell_type": "code",
   "execution_count": 40,
   "metadata": {},
   "outputs": [
    {
     "data": {
      "text/plain": [
       "array(['a', 'b', 'a'], dtype='<U1')"
      ]
     },
     "execution_count": 40,
     "metadata": {},
     "output_type": "execute_result"
    }
   ],
   "source": [
    "ids[index]"
   ]
  },
  {
   "cell_type": "code",
   "execution_count": 41,
   "metadata": {},
   "outputs": [
    {
     "data": {
      "text/plain": [
       "'1.14.0'"
      ]
     },
     "execution_count": 41,
     "metadata": {},
     "output_type": "execute_result"
    }
   ],
   "source": [
    "np.__version__"
   ]
  },
  {
   "cell_type": "code",
   "execution_count": null,
   "metadata": {},
   "outputs": [],
   "source": []
  }
 ],
 "metadata": {
  "kernelspec": {
   "display_name": "Python 3",
   "language": "python",
   "name": "python3"
  },
  "language_info": {
   "codemirror_mode": {
    "name": "ipython",
    "version": 3
   },
   "file_extension": ".py",
   "mimetype": "text/x-python",
   "name": "python",
   "nbconvert_exporter": "python",
   "pygments_lexer": "ipython3",
   "version": "3.6.4"
  }
 },
 "nbformat": 4,
 "nbformat_minor": 2
}
