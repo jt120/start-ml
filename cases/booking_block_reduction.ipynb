{
 "cells": [
  {
   "cell_type": "code",
   "execution_count": 14,
   "metadata": {},
   "outputs": [],
   "source": [
    "# 获得数据\n",
    "#了解数据每一项的含义\n",
    "# 缺失数据怎么处理\n",
    "# 文本到数字的映射\n",
    "# 分片训练集和测试集\n",
    "# 属性统一尺度\n",
    "# 选择重要的属性\n",
    "# 通过随机森林选择属性\n",
    "\n",
    "import pandas as pd\n",
    "import numpy as np\n",
    "from sklearn.preprocessing import LabelEncoder"
   ]
  },
  {
   "cell_type": "code",
   "execution_count": 31,
   "metadata": {},
   "outputs": [
    {
     "data": {
      "text/html": [
       "<div>\n",
       "<style>\n",
       "    .dataframe thead tr:only-child th {\n",
       "        text-align: right;\n",
       "    }\n",
       "\n",
       "    .dataframe thead th {\n",
       "        text-align: left;\n",
       "    }\n",
       "\n",
       "    .dataframe tbody tr th {\n",
       "        vertical-align: top;\n",
       "    }\n",
       "</style>\n",
       "<table border=\"1\" class=\"dataframe\">\n",
       "  <thead>\n",
       "    <tr style=\"text-align: right;\">\n",
       "      <th></th>\n",
       "      <th>site</th>\n",
       "      <th>qt</th>\n",
       "      <th>uptime</th>\n",
       "      <th>wrapperid</th>\n",
       "      <th>price</th>\n",
       "      <th>baseprice</th>\n",
       "      <th>addprice</th>\n",
       "      <th>tax</th>\n",
       "      <th>uname</th>\n",
       "      <th>pinfo</th>\n",
       "      <th>...</th>\n",
       "      <th>deptime</th>\n",
       "      <th>fromdate</th>\n",
       "      <th>retdate</th>\n",
       "      <th>rprice</th>\n",
       "      <th>rbaseprice</th>\n",
       "      <th>rtax</th>\n",
       "      <th>coreblockdesc</th>\n",
       "      <th>qunarglobal</th>\n",
       "      <th>biddingcase</th>\n",
       "      <th>pricekey</th>\n",
       "    </tr>\n",
       "  </thead>\n",
       "  <tbody>\n",
       "    <tr>\n",
       "      <th>0</th>\n",
       "      <td>cpb.trade.qunar.com</td>\n",
       "      <td>9eb9c41b6a31A</td>\n",
       "      <td>2017-9-26 00:00:00</td>\n",
       "      <td>ttsgjd10132</td>\n",
       "      <td>3010.0</td>\n",
       "      <td>3000</td>\n",
       "      <td>10</td>\n",
       "      <td>20</td>\n",
       "      <td>NaN</td>\n",
       "      <td>21#0</td>\n",
       "      <td>...</td>\n",
       "      <td>09:15</td>\n",
       "      <td>2017-12-20</td>\n",
       "      <td>NaN</td>\n",
       "      <td>3010.0</td>\n",
       "      <td>3010.0</td>\n",
       "      <td>20.0</td>\n",
       "      <td>NaN</td>\n",
       "      <td>NaN</td>\n",
       "      <td>NaN</td>\n",
       "      <td>XCJUCJJ2017-12-20#200#ITTS#cpb.trade.qunar.com...</td>\n",
       "    </tr>\n",
       "    <tr>\n",
       "      <th>1</th>\n",
       "      <td>cpb.trade.qunar.com</td>\n",
       "      <td>9fb9c41c8a94A</td>\n",
       "      <td>2017-9-26 00:00:00</td>\n",
       "      <td>ttsgjd10132</td>\n",
       "      <td>3046.0</td>\n",
       "      <td>3000</td>\n",
       "      <td>46</td>\n",
       "      <td>20</td>\n",
       "      <td>NaN</td>\n",
       "      <td>21#0</td>\n",
       "      <td>...</td>\n",
       "      <td>09:15</td>\n",
       "      <td>2017-12-20</td>\n",
       "      <td>NaN</td>\n",
       "      <td>3046.0</td>\n",
       "      <td>3046.0</td>\n",
       "      <td>20.0</td>\n",
       "      <td>NaN</td>\n",
       "      <td>NaN</td>\n",
       "      <td>NaN</td>\n",
       "      <td>XCJUCJJ2017-12-20#200#ITTS#cpb.trade.qunar.com...</td>\n",
       "    </tr>\n",
       "    <tr>\n",
       "      <th>2</th>\n",
       "      <td>mzi.trade.qunar.com</td>\n",
       "      <td>m_b8b588b36e07440582825f1ece4bf0dc</td>\n",
       "      <td>2017-9-26 00:00:00</td>\n",
       "      <td>ttsgjs00198</td>\n",
       "      <td>3290.0</td>\n",
       "      <td>3570</td>\n",
       "      <td>21</td>\n",
       "      <td>3559</td>\n",
       "      <td>yyfczpx1195</td>\n",
       "      <td>70#290#TEK_855717320_QLXCPCN1_3RTN,TEK_8557173...</td>\n",
       "      <td>...</td>\n",
       "      <td>00:05/10:05~16:20/02:50</td>\n",
       "      <td>2017-10-17</td>\n",
       "      <td>2017-10-25</td>\n",
       "      <td>3290.0</td>\n",
       "      <td>3570.0</td>\n",
       "      <td>3559.0</td>\n",
       "      <td>NaN</td>\n",
       "      <td>NaN</td>\n",
       "      <td>NaN</td>\n",
       "      <td>XSHAMRU2017-10-17~MRUSHA2017-10-25#200#ITTS#mz...</td>\n",
       "    </tr>\n",
       "    <tr>\n",
       "      <th>3</th>\n",
       "      <td>qlh.th.qunar.com</td>\n",
       "      <td>m_2bd5bf0cd59f4c20b90268a8ebb48e17</td>\n",
       "      <td>2017-9-26 00:00:00</td>\n",
       "      <td>ttsgjdt2409</td>\n",
       "      <td>19.0</td>\n",
       "      <td>60</td>\n",
       "      <td>-8</td>\n",
       "      <td>427</td>\n",
       "      <td>YMSH</td>\n",
       "      <td>70#330#TSC_847989843_UOW16T_5OWN@ETERM@QFARE</td>\n",
       "      <td>...</td>\n",
       "      <td>01:00</td>\n",
       "      <td>2017-10-09</td>\n",
       "      <td>NaN</td>\n",
       "      <td>19.0</td>\n",
       "      <td>60.0</td>\n",
       "      <td>427.0</td>\n",
       "      <td>NaN</td>\n",
       "      <td>NaN</td>\n",
       "      <td>NaN</td>\n",
       "      <td>XKMGBKK2017-10-09#200#ITTS#qlh.th.qunar.com#{\"...</td>\n",
       "    </tr>\n",
       "    <tr>\n",
       "      <th>4</th>\n",
       "      <td>yyi.trade.qunar.com</td>\n",
       "      <td>m_bbe3936877854ce18711587e422cce94</td>\n",
       "      <td>2017-9-26 00:00:01</td>\n",
       "      <td>ttsgjs00054</td>\n",
       "      <td>922.0</td>\n",
       "      <td>900</td>\n",
       "      <td>152</td>\n",
       "      <td>1960</td>\n",
       "      <td>nfzm1545</td>\n",
       "      <td>70#92954#T3U_26300919185492233_VL1MCL_20RTN,T3...</td>\n",
       "      <td>...</td>\n",
       "      <td>10:20/19:20~00:55/15:30</td>\n",
       "      <td>2017-10-17</td>\n",
       "      <td>2017-10-25</td>\n",
       "      <td>922.0</td>\n",
       "      <td>900.0</td>\n",
       "      <td>1960.0</td>\n",
       "      <td>NaN</td>\n",
       "      <td>NaN</td>\n",
       "      <td>NaN</td>\n",
       "      <td>XSZXLAX2017-10-17~LAXSZX2017-10-25#200#ITTS#yy...</td>\n",
       "    </tr>\n",
       "  </tbody>\n",
       "</table>\n",
       "<p>5 rows × 29 columns</p>\n",
       "</div>"
      ],
      "text/plain": [
       "                  site                                  qt  \\\n",
       "0  cpb.trade.qunar.com                       9eb9c41b6a31A   \n",
       "1  cpb.trade.qunar.com                       9fb9c41c8a94A   \n",
       "2  mzi.trade.qunar.com  m_b8b588b36e07440582825f1ece4bf0dc   \n",
       "3     qlh.th.qunar.com  m_2bd5bf0cd59f4c20b90268a8ebb48e17   \n",
       "4  yyi.trade.qunar.com  m_bbe3936877854ce18711587e422cce94   \n",
       "\n",
       "               uptime    wrapperid   price  baseprice  addprice   tax  \\\n",
       "0  2017-9-26 00:00:00  ttsgjd10132  3010.0       3000        10    20   \n",
       "1  2017-9-26 00:00:00  ttsgjd10132  3046.0       3000        46    20   \n",
       "2  2017-9-26 00:00:00  ttsgjs00198  3290.0       3570        21  3559   \n",
       "3  2017-9-26 00:00:00  ttsgjdt2409    19.0         60        -8   427   \n",
       "4  2017-9-26 00:00:01  ttsgjs00054   922.0        900       152  1960   \n",
       "\n",
       "         uname                                              pinfo  \\\n",
       "0          NaN                                               21#0   \n",
       "1          NaN                                               21#0   \n",
       "2  yyfczpx1195  70#290#TEK_855717320_QLXCPCN1_3RTN,TEK_8557173...   \n",
       "3         YMSH       70#330#TSC_847989843_UOW16T_5OWN@ETERM@QFARE   \n",
       "4     nfzm1545  70#92954#T3U_26300919185492233_VL1MCL_20RTN,T3...   \n",
       "\n",
       "                         ...                                          deptime  \\\n",
       "0                        ...                                            09:15   \n",
       "1                        ...                                            09:15   \n",
       "2                        ...                          00:05/10:05~16:20/02:50   \n",
       "3                        ...                                            01:00   \n",
       "4                        ...                          10:20/19:20~00:55/15:30   \n",
       "\n",
       "     fromdate     retdate  rprice rbaseprice    rtax coreblockdesc  \\\n",
       "0  2017-12-20         NaN  3010.0     3010.0    20.0           NaN   \n",
       "1  2017-12-20         NaN  3046.0     3046.0    20.0           NaN   \n",
       "2  2017-10-17  2017-10-25  3290.0     3570.0  3559.0           NaN   \n",
       "3  2017-10-09         NaN    19.0       60.0   427.0           NaN   \n",
       "4  2017-10-17  2017-10-25   922.0      900.0  1960.0           NaN   \n",
       "\n",
       "  qunarglobal biddingcase                                           pricekey  \n",
       "0         NaN         NaN  XCJUCJJ2017-12-20#200#ITTS#cpb.trade.qunar.com...  \n",
       "1         NaN         NaN  XCJUCJJ2017-12-20#200#ITTS#cpb.trade.qunar.com...  \n",
       "2         NaN         NaN  XSHAMRU2017-10-17~MRUSHA2017-10-25#200#ITTS#mz...  \n",
       "3         NaN         NaN  XKMGBKK2017-10-09#200#ITTS#qlh.th.qunar.com#{\"...  \n",
       "4         NaN         NaN  XSZXLAX2017-10-17~LAXSZX2017-10-25#200#ITTS#yy...  \n",
       "\n",
       "[5 rows x 29 columns]"
      ]
     },
     "execution_count": 31,
     "metadata": {},
     "output_type": "execute_result"
    }
   ],
   "source": [
    "# 获得原始数据\n",
    "df = pd.read_csv('d:/project/data/block_min.txt', delimiter='\\t')\n",
    "df.head()"
   ]
  },
  {
   "cell_type": "code",
   "execution_count": 8,
   "metadata": {},
   "outputs": [
    {
     "data": {
      "text/plain": [
       "Index(['site', 'qt', 'uptime', 'wrapperid', 'price', 'baseprice', 'addprice',\n",
       "       'tax', 'uname', 'pinfo', 'pricetag', 'flighttype', 'ispackage',\n",
       "       'source', 'fromcity', 'tocity', 'flightnum', 'cabin', 'depdate',\n",
       "       'deptime', 'fromdate', 'retdate', 'rprice', 'rbaseprice', 'rtax',\n",
       "       'coreblockdesc', 'qunarglobal', 'biddingcase', 'pricekey'],\n",
       "      dtype='object')"
      ]
     },
     "execution_count": 8,
     "metadata": {},
     "output_type": "execute_result"
    }
   ],
   "source": [
    "df.columns"
   ]
  },
  {
   "cell_type": "code",
   "execution_count": 32,
   "metadata": {
    "collapsed": true
   },
   "outputs": [],
   "source": [
    "# 计算变价\n",
    "df['price_change'] = df['price'] - df['rprice']\n",
    "df['tax_change'] = df['tax'] - df['rtax']"
   ]
  },
  {
   "cell_type": "code",
   "execution_count": 33,
   "metadata": {},
   "outputs": [],
   "source": [
    "# 打标记，0成功，1失败\n",
    "df['ok'] = 0\n",
    "df.loc[df['coreblockdesc'].notnull(), 'ok'] = 1"
   ]
  },
  {
   "cell_type": "code",
   "execution_count": 34,
   "metadata": {},
   "outputs": [
    {
     "data": {
      "text/html": [
       "<div>\n",
       "<style>\n",
       "    .dataframe thead tr:only-child th {\n",
       "        text-align: right;\n",
       "    }\n",
       "\n",
       "    .dataframe thead th {\n",
       "        text-align: left;\n",
       "    }\n",
       "\n",
       "    .dataframe tbody tr th {\n",
       "        vertical-align: top;\n",
       "    }\n",
       "</style>\n",
       "<table border=\"1\" class=\"dataframe\">\n",
       "  <thead>\n",
       "    <tr style=\"text-align: right;\">\n",
       "      <th></th>\n",
       "      <th>site</th>\n",
       "      <th>qt</th>\n",
       "      <th>uptime</th>\n",
       "      <th>wrapperid</th>\n",
       "      <th>price</th>\n",
       "      <th>baseprice</th>\n",
       "      <th>addprice</th>\n",
       "      <th>tax</th>\n",
       "      <th>uname</th>\n",
       "      <th>pinfo</th>\n",
       "      <th>...</th>\n",
       "      <th>rprice</th>\n",
       "      <th>rbaseprice</th>\n",
       "      <th>rtax</th>\n",
       "      <th>coreblockdesc</th>\n",
       "      <th>qunarglobal</th>\n",
       "      <th>biddingcase</th>\n",
       "      <th>pricekey</th>\n",
       "      <th>price_change</th>\n",
       "      <th>tax_change</th>\n",
       "      <th>ok</th>\n",
       "    </tr>\n",
       "  </thead>\n",
       "  <tbody>\n",
       "    <tr>\n",
       "      <th>10</th>\n",
       "      <td>bae.trade.qunar.com</td>\n",
       "      <td>m_d8abdfdbae1f49f58c36a9d69065261a</td>\n",
       "      <td>2017-9-26 00:00:02</td>\n",
       "      <td>ttsgjd11042</td>\n",
       "      <td>797.0</td>\n",
       "      <td>785</td>\n",
       "      <td>12</td>\n",
       "      <td>0</td>\n",
       "      <td>NaN</td>\n",
       "      <td>21#0</td>\n",
       "      <td>...</td>\n",
       "      <td>797.0</td>\n",
       "      <td>0.0</td>\n",
       "      <td>0.0</td>\n",
       "      <td>afare预定接口返回的基本信息校验不通过</td>\n",
       "      <td>NaN</td>\n",
       "      <td>NaN</td>\n",
       "      <td>XCTUJKT2017-10-09#200#ITTS#bae.trade.qunar.com...</td>\n",
       "      <td>0.0</td>\n",
       "      <td>0.0</td>\n",
       "      <td>1</td>\n",
       "    </tr>\n",
       "    <tr>\n",
       "      <th>12</th>\n",
       "      <td>cma.trade.qunar.com</td>\n",
       "      <td>m_8c5b251c1c354a95906520e0c40f13e0</td>\n",
       "      <td>2017-9-26 00:00:03</td>\n",
       "      <td>ttsgjd10092</td>\n",
       "      <td>135.0</td>\n",
       "      <td>144</td>\n",
       "      <td>-9</td>\n",
       "      <td>83</td>\n",
       "      <td>ijaiqdc2599</td>\n",
       "      <td>21#0</td>\n",
       "      <td>...</td>\n",
       "      <td>135.0</td>\n",
       "      <td>0.0</td>\n",
       "      <td>83.0</td>\n",
       "      <td>afare预定接口返回的基本信息校验不通过</td>\n",
       "      <td>NaN</td>\n",
       "      <td>NaN</td>\n",
       "      <td>XSGNDAD2017-10-03#200#ITTS#cma.trade.qunar.com...</td>\n",
       "      <td>0.0</td>\n",
       "      <td>0.0</td>\n",
       "      <td>1</td>\n",
       "    </tr>\n",
       "    <tr>\n",
       "      <th>21</th>\n",
       "      <td>bae.trade.qunar.com</td>\n",
       "      <td>m_8f8af7287a6a4338afafce6135abb541</td>\n",
       "      <td>2017-9-26 00:00:05</td>\n",
       "      <td>ttsgjd11042</td>\n",
       "      <td>797.0</td>\n",
       "      <td>785</td>\n",
       "      <td>12</td>\n",
       "      <td>0</td>\n",
       "      <td>NaN</td>\n",
       "      <td>21#0</td>\n",
       "      <td>...</td>\n",
       "      <td>797.0</td>\n",
       "      <td>0.0</td>\n",
       "      <td>0.0</td>\n",
       "      <td>afare预定接口返回的基本信息校验不通过</td>\n",
       "      <td>NaN</td>\n",
       "      <td>NaN</td>\n",
       "      <td>XCTUJKT2017-10-09#200#ITTS#bae.trade.qunar.com...</td>\n",
       "      <td>0.0</td>\n",
       "      <td>0.0</td>\n",
       "      <td>1</td>\n",
       "    </tr>\n",
       "    <tr>\n",
       "      <th>27</th>\n",
       "      <td>ytf.trade.qunar.com</td>\n",
       "      <td>9db9c4557166A</td>\n",
       "      <td>2017-9-26 00:00:07</td>\n",
       "      <td>ttsgjd10218</td>\n",
       "      <td>992.0</td>\n",
       "      <td>960</td>\n",
       "      <td>32</td>\n",
       "      <td>252</td>\n",
       "      <td>NaN</td>\n",
       "      <td>21#0</td>\n",
       "      <td>...</td>\n",
       "      <td>992.0</td>\n",
       "      <td>960.0</td>\n",
       "      <td>252.0</td>\n",
       "      <td>afare预定接口返回的基本信息校验不通过</td>\n",
       "      <td>192.168.31.108_749cae52_15eb9b37590_-2a42|1506...</td>\n",
       "      <td>NaN</td>\n",
       "      <td>XHKGPUS2017-10-03#200#ITTS#ytf.trade.qunar.com...</td>\n",
       "      <td>0.0</td>\n",
       "      <td>0.0</td>\n",
       "      <td>1</td>\n",
       "    </tr>\n",
       "    <tr>\n",
       "      <th>46</th>\n",
       "      <td>cpb.trade.qunar.com</td>\n",
       "      <td>m_20ae527189fa4bcabb57a177163fa961</td>\n",
       "      <td>2017-9-26 00:00:10</td>\n",
       "      <td>ttsgjd10132</td>\n",
       "      <td>429.0</td>\n",
       "      <td>420</td>\n",
       "      <td>9</td>\n",
       "      <td>129</td>\n",
       "      <td>plzt2584</td>\n",
       "      <td>21#0</td>\n",
       "      <td>...</td>\n",
       "      <td>429.0</td>\n",
       "      <td>0.0</td>\n",
       "      <td>129.0</td>\n",
       "      <td>afare预定接口返回的基本信息校验不通过</td>\n",
       "      <td>NaN</td>\n",
       "      <td>NaN</td>\n",
       "      <td>XMFMBKK2017-10-16#200#ITTS#cpb.trade.qunar.com...</td>\n",
       "      <td>0.0</td>\n",
       "      <td>0.0</td>\n",
       "      <td>1</td>\n",
       "    </tr>\n",
       "  </tbody>\n",
       "</table>\n",
       "<p>5 rows × 32 columns</p>\n",
       "</div>"
      ],
      "text/plain": [
       "                   site                                  qt  \\\n",
       "10  bae.trade.qunar.com  m_d8abdfdbae1f49f58c36a9d69065261a   \n",
       "12  cma.trade.qunar.com  m_8c5b251c1c354a95906520e0c40f13e0   \n",
       "21  bae.trade.qunar.com  m_8f8af7287a6a4338afafce6135abb541   \n",
       "27  ytf.trade.qunar.com                       9db9c4557166A   \n",
       "46  cpb.trade.qunar.com  m_20ae527189fa4bcabb57a177163fa961   \n",
       "\n",
       "                uptime    wrapperid  price  baseprice  addprice  tax  \\\n",
       "10  2017-9-26 00:00:02  ttsgjd11042  797.0        785        12    0   \n",
       "12  2017-9-26 00:00:03  ttsgjd10092  135.0        144        -9   83   \n",
       "21  2017-9-26 00:00:05  ttsgjd11042  797.0        785        12    0   \n",
       "27  2017-9-26 00:00:07  ttsgjd10218  992.0        960        32  252   \n",
       "46  2017-9-26 00:00:10  ttsgjd10132  429.0        420         9  129   \n",
       "\n",
       "          uname pinfo ... rprice  rbaseprice   rtax          coreblockdesc  \\\n",
       "10          NaN  21#0 ...  797.0         0.0    0.0  afare预定接口返回的基本信息校验不通过   \n",
       "12  ijaiqdc2599  21#0 ...  135.0         0.0   83.0  afare预定接口返回的基本信息校验不通过   \n",
       "21          NaN  21#0 ...  797.0         0.0    0.0  afare预定接口返回的基本信息校验不通过   \n",
       "27          NaN  21#0 ...  992.0       960.0  252.0  afare预定接口返回的基本信息校验不通过   \n",
       "46     plzt2584  21#0 ...  429.0         0.0  129.0  afare预定接口返回的基本信息校验不通过   \n",
       "\n",
       "                                          qunarglobal biddingcase  \\\n",
       "10                                                NaN         NaN   \n",
       "12                                                NaN         NaN   \n",
       "21                                                NaN         NaN   \n",
       "27  192.168.31.108_749cae52_15eb9b37590_-2a42|1506...         NaN   \n",
       "46                                                NaN         NaN   \n",
       "\n",
       "                                             pricekey price_change tax_change  \\\n",
       "10  XCTUJKT2017-10-09#200#ITTS#bae.trade.qunar.com...          0.0        0.0   \n",
       "12  XSGNDAD2017-10-03#200#ITTS#cma.trade.qunar.com...          0.0        0.0   \n",
       "21  XCTUJKT2017-10-09#200#ITTS#bae.trade.qunar.com...          0.0        0.0   \n",
       "27  XHKGPUS2017-10-03#200#ITTS#ytf.trade.qunar.com...          0.0        0.0   \n",
       "46  XMFMBKK2017-10-16#200#ITTS#cpb.trade.qunar.com...          0.0        0.0   \n",
       "\n",
       "   ok  \n",
       "10  1  \n",
       "12  1  \n",
       "21  1  \n",
       "27  1  \n",
       "46  1  \n",
       "\n",
       "[5 rows x 32 columns]"
      ]
     },
     "execution_count": 34,
     "metadata": {},
     "output_type": "execute_result"
    }
   ],
   "source": [
    "df[df['ok']==1].head()"
   ]
  },
  {
   "cell_type": "code",
   "execution_count": 35,
   "metadata": {},
   "outputs": [
    {
     "name": "stdout",
     "output_type": "stream",
     "text": [
      "LJ\n",
      "EK/EK~EK/EK\n",
      "EK~EK\n",
      "3U/3U\n"
     ]
    }
   ],
   "source": [
    "# 提取航司\n",
    "def get_carrier(key):\n",
    "    k1 = key.split('~')\n",
    "    ca = ''\n",
    "    for i, v in enumerate(k1):\n",
    "        if i>0:\n",
    "            ca+='~'\n",
    "        k2 = v.split('/')\n",
    "        for j, m in enumerate(k2):\n",
    "            if j > 0:\n",
    "                ca+='/'\n",
    "            ca += m[0:2]\n",
    "    return ca\n",
    "\n",
    "print(get_carrier('LJ201'))\n",
    "print(get_carrier('EK303/EK703~EK702/EK302'))\n",
    "print(get_carrier('EK703~EK702'))\n",
    "print(get_carrier('3U8702/3U8699'))"
   ]
  },
  {
   "cell_type": "code",
   "execution_count": 36,
   "metadata": {},
   "outputs": [],
   "source": [
    "df['carrier'] = df['flightnum'].apply(get_carrier)"
   ]
  },
  {
   "cell_type": "code",
   "execution_count": 37,
   "metadata": {},
   "outputs": [],
   "source": [
    "# 提取政策类型\n",
    "def split_pinfo(pinfo):\n",
    "    return pinfo.split('#')[0]\n",
    "df['pinfo']=df['pinfo'].apply(split_pinfo)"
   ]
  },
  {
   "cell_type": "code",
   "execution_count": 38,
   "metadata": {},
   "outputs": [
    {
     "data": {
      "text/html": [
       "<div>\n",
       "<style>\n",
       "    .dataframe thead tr:only-child th {\n",
       "        text-align: right;\n",
       "    }\n",
       "\n",
       "    .dataframe thead th {\n",
       "        text-align: left;\n",
       "    }\n",
       "\n",
       "    .dataframe tbody tr th {\n",
       "        vertical-align: top;\n",
       "    }\n",
       "</style>\n",
       "<table border=\"1\" class=\"dataframe\">\n",
       "  <thead>\n",
       "    <tr style=\"text-align: right;\">\n",
       "      <th></th>\n",
       "      <th>site</th>\n",
       "      <th>qt</th>\n",
       "      <th>uptime</th>\n",
       "      <th>wrapperid</th>\n",
       "      <th>price</th>\n",
       "      <th>baseprice</th>\n",
       "      <th>addprice</th>\n",
       "      <th>tax</th>\n",
       "      <th>uname</th>\n",
       "      <th>pinfo</th>\n",
       "      <th>...</th>\n",
       "      <th>rbaseprice</th>\n",
       "      <th>rtax</th>\n",
       "      <th>coreblockdesc</th>\n",
       "      <th>qunarglobal</th>\n",
       "      <th>biddingcase</th>\n",
       "      <th>pricekey</th>\n",
       "      <th>price_change</th>\n",
       "      <th>tax_change</th>\n",
       "      <th>ok</th>\n",
       "      <th>carrier</th>\n",
       "    </tr>\n",
       "  </thead>\n",
       "  <tbody>\n",
       "    <tr>\n",
       "      <th>0</th>\n",
       "      <td>9</td>\n",
       "      <td>9eb9c41b6a31A</td>\n",
       "      <td>2017-9-26 00:00:00</td>\n",
       "      <td>ttsgjd10132</td>\n",
       "      <td>3010.0</td>\n",
       "      <td>3000</td>\n",
       "      <td>10</td>\n",
       "      <td>20</td>\n",
       "      <td>NaN</td>\n",
       "      <td>4</td>\n",
       "      <td>...</td>\n",
       "      <td>3010.0</td>\n",
       "      <td>20.0</td>\n",
       "      <td>NaN</td>\n",
       "      <td>NaN</td>\n",
       "      <td>NaN</td>\n",
       "      <td>XCJUCJJ2017-12-20#200#ITTS#cpb.trade.qunar.com...</td>\n",
       "      <td>0.0</td>\n",
       "      <td>0.0</td>\n",
       "      <td>0</td>\n",
       "      <td>279</td>\n",
       "    </tr>\n",
       "    <tr>\n",
       "      <th>1</th>\n",
       "      <td>9</td>\n",
       "      <td>9fb9c41c8a94A</td>\n",
       "      <td>2017-9-26 00:00:00</td>\n",
       "      <td>ttsgjd10132</td>\n",
       "      <td>3046.0</td>\n",
       "      <td>3000</td>\n",
       "      <td>46</td>\n",
       "      <td>20</td>\n",
       "      <td>NaN</td>\n",
       "      <td>4</td>\n",
       "      <td>...</td>\n",
       "      <td>3046.0</td>\n",
       "      <td>20.0</td>\n",
       "      <td>NaN</td>\n",
       "      <td>NaN</td>\n",
       "      <td>NaN</td>\n",
       "      <td>XCJUCJJ2017-12-20#200#ITTS#cpb.trade.qunar.com...</td>\n",
       "      <td>0.0</td>\n",
       "      <td>0.0</td>\n",
       "      <td>0</td>\n",
       "      <td>279</td>\n",
       "    </tr>\n",
       "    <tr>\n",
       "      <th>2</th>\n",
       "      <td>58</td>\n",
       "      <td>m_b8b588b36e07440582825f1ece4bf0dc</td>\n",
       "      <td>2017-9-26 00:00:00</td>\n",
       "      <td>ttsgjs00198</td>\n",
       "      <td>3290.0</td>\n",
       "      <td>3570</td>\n",
       "      <td>21</td>\n",
       "      <td>3559</td>\n",
       "      <td>yyfczpx1195</td>\n",
       "      <td>5</td>\n",
       "      <td>...</td>\n",
       "      <td>3570.0</td>\n",
       "      <td>3559.0</td>\n",
       "      <td>NaN</td>\n",
       "      <td>NaN</td>\n",
       "      <td>NaN</td>\n",
       "      <td>XSHAMRU2017-10-17~MRUSHA2017-10-25#200#ITTS#mz...</td>\n",
       "      <td>0.0</td>\n",
       "      <td>0.0</td>\n",
       "      <td>0</td>\n",
       "      <td>137</td>\n",
       "    </tr>\n",
       "    <tr>\n",
       "      <th>3</th>\n",
       "      <td>65</td>\n",
       "      <td>m_2bd5bf0cd59f4c20b90268a8ebb48e17</td>\n",
       "      <td>2017-9-26 00:00:00</td>\n",
       "      <td>ttsgjdt2409</td>\n",
       "      <td>19.0</td>\n",
       "      <td>60</td>\n",
       "      <td>-8</td>\n",
       "      <td>427</td>\n",
       "      <td>YMSH</td>\n",
       "      <td>5</td>\n",
       "      <td>...</td>\n",
       "      <td>60.0</td>\n",
       "      <td>427.0</td>\n",
       "      <td>NaN</td>\n",
       "      <td>NaN</td>\n",
       "      <td>NaN</td>\n",
       "      <td>XKMGBKK2017-10-09#200#ITTS#qlh.th.qunar.com#{\"...</td>\n",
       "      <td>0.0</td>\n",
       "      <td>0.0</td>\n",
       "      <td>0</td>\n",
       "      <td>389</td>\n",
       "    </tr>\n",
       "    <tr>\n",
       "      <th>4</th>\n",
       "      <td>136</td>\n",
       "      <td>m_bbe3936877854ce18711587e422cce94</td>\n",
       "      <td>2017-9-26 00:00:01</td>\n",
       "      <td>ttsgjs00054</td>\n",
       "      <td>922.0</td>\n",
       "      <td>900</td>\n",
       "      <td>152</td>\n",
       "      <td>1960</td>\n",
       "      <td>nfzm1545</td>\n",
       "      <td>5</td>\n",
       "      <td>...</td>\n",
       "      <td>900.0</td>\n",
       "      <td>1960.0</td>\n",
       "      <td>NaN</td>\n",
       "      <td>NaN</td>\n",
       "      <td>NaN</td>\n",
       "      <td>XSZXLAX2017-10-17~LAXSZX2017-10-25#200#ITTS#yy...</td>\n",
       "      <td>0.0</td>\n",
       "      <td>0.0</td>\n",
       "      <td>0</td>\n",
       "      <td>5</td>\n",
       "    </tr>\n",
       "  </tbody>\n",
       "</table>\n",
       "<p>5 rows × 33 columns</p>\n",
       "</div>"
      ],
      "text/plain": [
       "   site                                  qt              uptime    wrapperid  \\\n",
       "0     9                       9eb9c41b6a31A  2017-9-26 00:00:00  ttsgjd10132   \n",
       "1     9                       9fb9c41c8a94A  2017-9-26 00:00:00  ttsgjd10132   \n",
       "2    58  m_b8b588b36e07440582825f1ece4bf0dc  2017-9-26 00:00:00  ttsgjs00198   \n",
       "3    65  m_2bd5bf0cd59f4c20b90268a8ebb48e17  2017-9-26 00:00:00  ttsgjdt2409   \n",
       "4   136  m_bbe3936877854ce18711587e422cce94  2017-9-26 00:00:01  ttsgjs00054   \n",
       "\n",
       "    price  baseprice  addprice   tax        uname  pinfo   ...   rbaseprice  \\\n",
       "0  3010.0       3000        10    20          NaN      4   ...       3010.0   \n",
       "1  3046.0       3000        46    20          NaN      4   ...       3046.0   \n",
       "2  3290.0       3570        21  3559  yyfczpx1195      5   ...       3570.0   \n",
       "3    19.0         60        -8   427         YMSH      5   ...         60.0   \n",
       "4   922.0        900       152  1960     nfzm1545      5   ...        900.0   \n",
       "\n",
       "     rtax  coreblockdesc  qunarglobal  biddingcase  \\\n",
       "0    20.0            NaN          NaN          NaN   \n",
       "1    20.0            NaN          NaN          NaN   \n",
       "2  3559.0            NaN          NaN          NaN   \n",
       "3   427.0            NaN          NaN          NaN   \n",
       "4  1960.0            NaN          NaN          NaN   \n",
       "\n",
       "                                            pricekey  price_change  \\\n",
       "0  XCJUCJJ2017-12-20#200#ITTS#cpb.trade.qunar.com...           0.0   \n",
       "1  XCJUCJJ2017-12-20#200#ITTS#cpb.trade.qunar.com...           0.0   \n",
       "2  XSHAMRU2017-10-17~MRUSHA2017-10-25#200#ITTS#mz...           0.0   \n",
       "3  XKMGBKK2017-10-09#200#ITTS#qlh.th.qunar.com#{\"...           0.0   \n",
       "4  XSZXLAX2017-10-17~LAXSZX2017-10-25#200#ITTS#yy...           0.0   \n",
       "\n",
       "   tax_change ok carrier  \n",
       "0         0.0  0     279  \n",
       "1         0.0  0     279  \n",
       "2         0.0  0     137  \n",
       "3         0.0  0     389  \n",
       "4         0.0  0       5  \n",
       "\n",
       "[5 rows x 33 columns]"
      ]
     },
     "execution_count": 38,
     "metadata": {},
     "output_type": "execute_result"
    }
   ],
   "source": [
    "# 数字化\n",
    "site_mapping = {label:idx for idx,label in enumerate(np.unique(df['site']))}\n",
    "pinfo_mapping = {label:idx for idx,label in enumerate(np.unique(df['pinfo']))}\n",
    "fromcity_mapping = {label:idx for idx,label in enumerate(np.unique(df['fromcity']))}\n",
    "tocity_mapping = {label:idx for idx,label in enumerate(np.unique(df['tocity']))}\n",
    "flightnum_mapping = {label:idx for idx,label in enumerate(np.unique(df['flightnum']))}\n",
    "cabin_mapping = {label:idx for idx,label in enumerate(np.unique(df['cabin']))}\n",
    "carrier_mapping = {label:idx for idx,label in enumerate(np.unique(df['carrier']))}\n",
    "\n",
    "site_le = LabelEncoder()\n",
    "pinfo_le = LabelEncoder()\n",
    "fromcity_le = LabelEncoder()\n",
    "tocity_le = LabelEncoder()\n",
    "flightnum_le = LabelEncoder()\n",
    "cabin_le = LabelEncoder()\n",
    "carrier_le = LabelEncoder()\n",
    "boolean_le = LabelEncoder()\n",
    "source_le = LabelEncoder()\n",
    "\n",
    "df['site'] = site_le.fit_transform(df['site'].values)\n",
    "df['pinfo'] = pinfo_le.fit_transform(df['pinfo'].values)\n",
    "df['fromcity'] = fromcity_le.fit_transform(df['fromcity'].values)\n",
    "df['tocity'] = tocity_le.fit_transform(df['tocity'].values)\n",
    "df['carrier'] = carrier_le.fit_transform(df['carrier'].values)\n",
    "df['cabin'] = cabin_le.fit_transform(df['cabin'].values)\n",
    "df['flightnum'] = flightnum_le.fit_transform(df['flightnum'].values)\n",
    "df['ispackage'] = boolean_le.fit_transform(df['ispackage'].values)\n",
    "df['source'] = source_le.fit_transform(df['source'].values)\n",
    "\n",
    "df.head()"
   ]
  },
  {
   "cell_type": "code",
   "execution_count": 12,
   "metadata": {},
   "outputs": [
    {
     "data": {
      "text/plain": [
       "Index(['site', 'qt', 'uptime', 'wrapperid', 'price', 'baseprice', 'addprice',\n",
       "       'tax', 'uname', 'pinfo', 'pricetag', 'flighttype', 'ispackage',\n",
       "       'source', 'fromcity', 'tocity', 'flightnum', 'cabin', 'depdate',\n",
       "       'deptime', 'fromdate', 'retdate', 'rprice', 'rbaseprice', 'rtax',\n",
       "       'coreblockdesc', 'qunarglobal', 'biddingcase', 'pricekey',\n",
       "       'price_change', 'tax_change', 'ok', 'carrier'],\n",
       "      dtype='object')"
      ]
     },
     "execution_count": 12,
     "metadata": {},
     "output_type": "execute_result"
    }
   ],
   "source": [
    "df.columns"
   ]
  },
  {
   "cell_type": "code",
   "execution_count": 106,
   "metadata": {},
   "outputs": [],
   "source": [
    "# 提取共同属性\n",
    "a = df[['ok', 'site','pinfo','flighttype','source','ispackage', 'fromcity', 'tocity', 'flightnum', 'cabin', 'carrier', 'price_change', 'tax_change']]"
   ]
  },
  {
   "cell_type": "code",
   "execution_count": 107,
   "metadata": {
    "collapsed": true
   },
   "outputs": [],
   "source": [
    "# 去除na值，落盘\n",
    "a = a.fillna(value=0)\n",
    "a.isnull().sum()\n",
    "a.to_csv('d:/tmp/b.txt', encoding='utf8')"
   ]
  },
  {
   "cell_type": "code",
   "execution_count": 108,
   "metadata": {},
   "outputs": [],
   "source": [
    "# 分组\n",
    "from sklearn.cross_validation import train_test_split\n",
    "X, y = a.iloc[:, 1:].values, a.iloc[:, 0].values\n",
    "X_train, X_test, y_train, y_test = train_test_split(X, y, test_size=0.3, random_state=0)"
   ]
  },
  {
   "cell_type": "code",
   "execution_count": 109,
   "metadata": {},
   "outputs": [],
   "source": [
    "# 归一化\n",
    "from sklearn.preprocessing import StandardScaler\n",
    "stdsc = StandardScaler()\n",
    "X_train_std = stdsc.fit_transform(X_train)\n",
    "X_test_std = stdsc.transform(X_test)"
   ]
  },
  {
   "cell_type": "code",
   "execution_count": 67,
   "metadata": {},
   "outputs": [],
   "source": [
    "%matplotlib inline"
   ]
  },
  {
   "cell_type": "code",
   "execution_count": 112,
   "metadata": {},
   "outputs": [
    {
     "name": "stdout",
     "output_type": "stream",
     "text": [
      "Training accuracy: 0.900271467352\n",
      "Test accuracy: 0.9\n"
     ]
    },
    {
     "data": {
      "text/plain": [
       "array([[ 0.14828121,  0.52054732,  0.43371717, -0.20481304, -0.01207893,\n",
       "         0.14220595,  0.08207198,  0.        , -0.07049165, -0.06928596,\n",
       "        -0.60450259,  0.04169051]])"
      ]
     },
     "execution_count": 112,
     "metadata": {},
     "output_type": "execute_result"
    }
   ],
   "source": [
    "# 逻辑回归\n",
    "from sklearn.linear_model import LogisticRegression\n",
    "lr = LogisticRegression(penalty='l1', C=0.1)\n",
    "lr.fit(X_train_std, y_train)\n",
    "print('Training accuracy:', lr.score(X_train_std, y_train))\n",
    "print('Test accuracy:', lr.score(X_test_std, y_test))\n",
    "lr.intercept_\n",
    "lr.coef_"
   ]
  },
  {
   "cell_type": "code",
   "execution_count": 88,
   "metadata": {},
   "outputs": [
    {
     "ename": "IndexError",
     "evalue": "too many indices for array",
     "output_type": "error",
     "traceback": [
      "\u001b[1;31m---------------------------------------------------------------------------\u001b[0m",
      "\u001b[1;31mIndexError\u001b[0m                                Traceback (most recent call last)",
      "\u001b[1;32m<ipython-input-88-a7acb8539e93>\u001b[0m in \u001b[0;36m<module>\u001b[1;34m()\u001b[0m\n\u001b[0;32m     11\u001b[0m \u001b[0mweights\u001b[0m \u001b[1;33m=\u001b[0m \u001b[0mnp\u001b[0m\u001b[1;33m.\u001b[0m\u001b[0marray\u001b[0m\u001b[1;33m(\u001b[0m\u001b[0mweights\u001b[0m\u001b[1;33m)\u001b[0m\u001b[1;33m\u001b[0m\u001b[0m\n\u001b[0;32m     12\u001b[0m \u001b[1;32mfor\u001b[0m \u001b[0mcolumn\u001b[0m\u001b[1;33m,\u001b[0m \u001b[0mcolor\u001b[0m \u001b[1;32min\u001b[0m \u001b[0mzip\u001b[0m\u001b[1;33m(\u001b[0m\u001b[0mrange\u001b[0m\u001b[1;33m(\u001b[0m\u001b[0mweights\u001b[0m\u001b[1;33m.\u001b[0m\u001b[0mshape\u001b[0m\u001b[1;33m[\u001b[0m\u001b[1;36m0\u001b[0m\u001b[1;33m]\u001b[0m\u001b[1;33m)\u001b[0m\u001b[1;33m,\u001b[0m \u001b[0mcolors\u001b[0m\u001b[1;33m)\u001b[0m\u001b[1;33m:\u001b[0m\u001b[1;33m\u001b[0m\u001b[0m\n\u001b[1;32m---> 13\u001b[1;33m     \u001b[0mplt\u001b[0m\u001b[1;33m.\u001b[0m\u001b[0mplot\u001b[0m\u001b[1;33m(\u001b[0m\u001b[0mparams\u001b[0m\u001b[1;33m,\u001b[0m \u001b[0mweights\u001b[0m\u001b[1;33m[\u001b[0m\u001b[1;33m:\u001b[0m\u001b[1;33m,\u001b[0m \u001b[0mcolumn\u001b[0m\u001b[1;33m]\u001b[0m\u001b[1;33m,\u001b[0m\u001b[0mlabel\u001b[0m\u001b[1;33m=\u001b[0m\u001b[0ma\u001b[0m\u001b[1;33m.\u001b[0m\u001b[0mcolumns\u001b[0m\u001b[1;33m[\u001b[0m\u001b[0mcolumn\u001b[0m\u001b[1;33m+\u001b[0m\u001b[1;36m1\u001b[0m\u001b[1;33m]\u001b[0m\u001b[1;33m,\u001b[0m\u001b[0mcolor\u001b[0m\u001b[1;33m=\u001b[0m\u001b[0mcolor\u001b[0m\u001b[1;33m)\u001b[0m\u001b[1;33m\u001b[0m\u001b[0m\n\u001b[0m\u001b[0;32m     14\u001b[0m \u001b[0mplt\u001b[0m\u001b[1;33m.\u001b[0m\u001b[0maxhline\u001b[0m\u001b[1;33m(\u001b[0m\u001b[1;36m0\u001b[0m\u001b[1;33m,\u001b[0m \u001b[0mcolor\u001b[0m\u001b[1;33m=\u001b[0m\u001b[1;34m'black'\u001b[0m\u001b[1;33m,\u001b[0m \u001b[0mlinestyle\u001b[0m\u001b[1;33m=\u001b[0m\u001b[1;34m'--'\u001b[0m\u001b[1;33m,\u001b[0m \u001b[0mlinewidth\u001b[0m\u001b[1;33m=\u001b[0m\u001b[1;36m3\u001b[0m\u001b[1;33m)\u001b[0m\u001b[1;33m\u001b[0m\u001b[0m\n\u001b[0;32m     15\u001b[0m \u001b[0mplt\u001b[0m\u001b[1;33m.\u001b[0m\u001b[0mxlim\u001b[0m\u001b[1;33m(\u001b[0m\u001b[1;33m[\u001b[0m\u001b[1;36m10\u001b[0m\u001b[1;33m**\u001b[0m\u001b[1;33m(\u001b[0m\u001b[1;33m-\u001b[0m\u001b[1;36m5\u001b[0m\u001b[1;33m)\u001b[0m\u001b[1;33m,\u001b[0m \u001b[1;36m10\u001b[0m\u001b[1;33m**\u001b[0m\u001b[1;36m5\u001b[0m\u001b[1;33m]\u001b[0m\u001b[1;33m)\u001b[0m\u001b[1;33m\u001b[0m\u001b[0m\n",
      "\u001b[1;31mIndexError\u001b[0m: too many indices for array"
     ]
    },
    {
     "data": {
      "image/png": "[encoded data removed]",
      "text/plain": [
       "<matplotlib.figure.Figure at 0xee2db00>"
      ]
     },
     "metadata": {},
     "output_type": "display_data"
    }
   ],
   "source": [
    "# L1 regularization\n",
    "import matplotlib.pyplot as plt\n",
    "fig = plt.figure()\n",
    "ax = plt.subplot(111)\n",
    "colors = ['blue', 'green', 'red', 'cyan','magenta', 'yellow', 'black','pink', 'lightgreen', 'lightblue','gray', 'indigo']\n",
    "weights, params = [], []\n",
    "for c in np.arange(0, 6):\n",
    "    lr = LogisticRegression(penalty='l1',C=10**c,random_state=0)\n",
    "    lr.fit(X_train_std, y_train)\n",
    "    weights.append(lr.coef_[0][1])\n",
    "    params.append(10**c)\n",
    "weights = np.array(weights)\n",
    "for column, color in zip(range(weights.shape[0]), colors):\n",
    "    plt.plot(params, weights[:, column],label=a.columns[column+1],color=color)\n",
    "plt.axhline(0, color='black', linestyle='--', linewidth=3)\n",
    "plt.xlim([10**(-5), 10**5])\n",
    "plt.ylabel('weight coefficient')\n",
    "plt.xlabel('C')\n",
    "plt.xscale('log')\n",
    "plt.legend(loc='upper left')\n",
    "ax.legend(loc='upper center',bbox_to_anchor=(1.38, 1.03),ncol=1, fancybox=True)\n",
    "plt.show()"
   ]
  },
  {
   "cell_type": "code",
   "execution_count": 87,
   "metadata": {},
   "outputs": [
    {
     "data": {
      "text/plain": [
       "array([ 0.562883  ,  0.57086854,  0.57169444,  0.57177686,  0.57178511,\n",
       "        0.57178593])"
      ]
     },
     "execution_count": 87,
     "metadata": {},
     "output_type": "execute_result"
    }
   ],
   "source": [
    "weights"
   ]
  },
  {
   "cell_type": "code",
   "execution_count": 89,
   "metadata": {
    "collapsed": true
   },
   "outputs": [],
   "source": [
    "# SBS sequential backward selection\n",
    "# Sequential feature selection algorithms\n",
    "from sklearn.base import clone\n",
    "from itertools import combinations\n",
    "import numpy as np\n",
    "from sklearn.cross_validation import train_test_split\n",
    "from sklearn.metrics import accuracy_score\n",
    "\n",
    "class SBS():\n",
    "    \n",
    "    def __init__(self, estimator, k_features,\n",
    "        scoring=accuracy_score,\n",
    "        test_size=0.25, random_state=1):\n",
    "        self.scoring = scoring\n",
    "        self.estimator = clone(estimator)\n",
    "        self.k_features = k_features\n",
    "        self.test_size = test_size\n",
    "        self.random_state = random_state\n",
    "        \n",
    "    def fit(self, X, y):\n",
    "        X_train, X_test, y_train, y_test = train_test_split(X, y, test_size=self.test_size, random_state=self.random_state)\n",
    "        dim = X_train.shape[1]\n",
    "        self.indices_ = tuple(range(dim))\n",
    "        self.subsets_ = [self.indices_]\n",
    "        score = self._calc_score(X_train, y_train, X_test, y_test, self.indices_)\n",
    "        self.scores_ = [score]\n",
    "        while dim > self.k_features:\n",
    "            scores = []\n",
    "            subsets = []\n",
    "            for p in combinations(self.indices_, r=dim-1):\n",
    "                score = self._calc_score(X_train, y_train,\n",
    "                X_test, y_test, p)\n",
    "                scores.append(score)\n",
    "                subsets.append(p)\n",
    "            best = np.argmax(scores)\n",
    "            self.indices_ = subsets[best]\n",
    "            self.subsets_.append(self.indices_)\n",
    "            dim -= 1\n",
    "            self.scores_.append(scores[best])\n",
    "        self.k_score_ = self.scores_[-1]\n",
    "        return self\n",
    "    \n",
    "    def transform(self, X):\n",
    "        return X[:, self.indices_]\n",
    "    \n",
    "    def _calc_score(self, X_train, y_train, X_test, y_test, indices):\n",
    "        self.estimator.fit(X_train[:, indices], y_train)\n",
    "        y_pred = self.estimator.predict(X_test[:, indices])\n",
    "        score = self.scoring(y_test, y_pred)\n",
    "        return score\n"
   ]
  },
  {
   "cell_type": "code",
   "execution_count": 113,
   "metadata": {},
   "outputs": [
    {
     "data": {
      "text/plain": [
       "<__main__.SBS at 0xee66898>"
      ]
     },
     "execution_count": 113,
     "metadata": {},
     "output_type": "execute_result"
    }
   ],
   "source": [
    "from sklearn.neighbors import KNeighborsClassifier\n",
    "import matplotlib.pyplot as plt\n",
    "knn = KNeighborsClassifier(n_neighbors=2)\n",
    "sbs = SBS(knn, k_features=1)\n",
    "sbs.fit(X_train_std, y_train)"
   ]
  },
  {
   "cell_type": "code",
   "execution_count": 114,
   "metadata": {},
   "outputs": [
    {
     "data": {
      "image/png": "[encoded data removed]",
      "text/plain": [
       "<matplotlib.figure.Figure at 0xffa30b8>"
      ]
     },
     "metadata": {},
     "output_type": "display_data"
    }
   ],
   "source": [
    "k_feat = [len(k) for k in sbs.subsets_]\n",
    "plt.plot(k_feat, sbs.scores_, marker='o')\n",
    "plt.ylim([0.7, 1.1])\n",
    "plt.ylabel('Accuracy')\n",
    "plt.xlabel('Number of features')\n",
    "plt.grid()\n",
    "plt.show()"
   ]
  },
  {
   "cell_type": "code",
   "execution_count": 151,
   "metadata": {},
   "outputs": [
    {
     "name": "stdout",
     "output_type": "stream",
     "text": [
      "Index(['site', 'pinfo', 'tocity', 'carrier'], dtype='object')\n"
     ]
    }
   ],
   "source": [
    "k5 = list(sbs.subsets_[8])\n",
    "print(a.columns[1:][k5])"
   ]
  },
  {
   "cell_type": "code",
   "execution_count": 129,
   "metadata": {},
   "outputs": [
    {
     "name": "stdout",
     "output_type": "stream",
     "text": [
      "Training accuracy: 0.958565509358\n",
      "Test accuracy: 0.915666666667\n"
     ]
    }
   ],
   "source": [
    "knn.fit(X_train_std, y_train)\n",
    "print('Training accuracy:', knn.score(X_train_std, y_train))\n",
    "print('Test accuracy:', knn.score(X_test_std, y_test))"
   ]
  },
  {
   "cell_type": "code",
   "execution_count": 152,
   "metadata": {},
   "outputs": [
    {
     "name": "stdout",
     "output_type": "stream",
     "text": [
      "Training accuracy: 0.952421774539\n",
      "Test accuracy: 0.916666666667\n"
     ]
    }
   ],
   "source": [
    "knn.fit(X_train_std[:, k5], y_train)\n",
    "print('Training accuracy:',knn.score(X_train_std[:, k5], y_train))\n",
    "print('Test accuracy:', knn.score(X_test_std[:, k5], y_test))"
   ]
  },
  {
   "cell_type": "code",
   "execution_count": 96,
   "metadata": {},
   "outputs": [
    {
     "name": "stdout",
     "output_type": "stream",
     "text": [
      " 1) site                           0.164467\n",
      " 2) pinfo                          0.146746\n",
      " 3) flighttype                     0.133827\n",
      " 4) source                         0.121398\n",
      " 5) ispackage                      0.117937\n",
      " 6) fromcity                       0.113154\n",
      " 7) tocity                         0.058768\n",
      " 8) flightnum                      0.052362\n",
      " 9) cabin                          0.046329\n",
      "10) carrier                        0.033925\n",
      "11) price_change                   0.005567\n",
      "12) tax_change                     0.005518\n"
     ]
    }
   ],
   "source": [
    "# random forests\n",
    "from sklearn.ensemble import RandomForestClassifier\n",
    "feat_labels = a.columns[1:]\n",
    "forest = RandomForestClassifier(n_estimators=10000,random_state=0,n_jobs=-1)\n",
    "forest.fit(X_train, y_train)\n",
    "importances = forest.feature_importances_\n",
    "indices = np.argsort(importances)[::-1]\n",
    "for f in range(X_train.shape[1]):\n",
    "    print(\"%2d) %-*s %f\" % (f + 1, 30,feat_labels[f],importances[indices[f]]))"
   ]
  },
  {
   "cell_type": "code",
   "execution_count": 97,
   "metadata": {},
   "outputs": [
    {
     "data": {
      "image/png": "[encoded data removed]",
      "text/plain": [
       "<matplotlib.figure.Figure at 0xf9d4ef0>"
      ]
     },
     "metadata": {},
     "output_type": "display_data"
    }
   ],
   "source": [
    "plt.title('Feature Importances')\n",
    "plt.bar(range(X_train.shape[1]),importances[indices],color='lightblue',align='center')\n",
    "plt.xticks(range(X_train.shape[1]),feat_labels, rotation=90)\n",
    "plt.xlim([-1, X_train.shape[1]])\n",
    "plt.tight_layout()\n",
    "plt.show()"
   ]
  },
  {
   "cell_type": "code",
   "execution_count": 98,
   "metadata": {},
   "outputs": [
    {
     "name": "stderr",
     "output_type": "stream",
     "text": [
      "D:\\ProgramData\\Anaconda3\\lib\\site-packages\\sklearn\\utils\\deprecation.py:70: DeprecationWarning: Function transform is deprecated; Support to use estimators as feature selectors will be removed in version 0.19. Use SelectFromModel instead.\n",
      "  warnings.warn(msg, category=DeprecationWarning)\n"
     ]
    },
    {
     "data": {
      "text/plain": [
       "(6999, 1)"
      ]
     },
     "execution_count": 98,
     "metadata": {},
     "output_type": "execute_result"
    }
   ],
   "source": [
    "X_selected = forest.transform(X_train, threshold=0.15)\n",
    "X_selected.shape"
   ]
  },
  {
   "cell_type": "code",
   "execution_count": 153,
   "metadata": {},
   "outputs": [],
   "source": [
    "from sklearn.cross_validation import train_test_split\n",
    "from sklearn.preprocessing import StandardScaler\n",
    "X, y = a.iloc[:, 1:].values, a.iloc[:, 0].values\n",
    "X_train, X_test, y_train, y_test = train_test_split(X, y, test_size=0.3, random_state=0)\n",
    "sc = StandardScaler()\n",
    "X_train_std = sc.fit_transform(X_train)\n",
    "X_test_std = sc.fit_transform(X_test)"
   ]
  },
  {
   "cell_type": "code",
   "execution_count": 154,
   "metadata": {},
   "outputs": [
    {
     "name": "stdout",
     "output_type": "stream",
     "text": [
      "\n",
      "Eigenvalues \n",
      "[ 2.10839904  0.00315361  1.73900301  1.3645978   0.61788504  0.65285158\n",
      "  0.69723265  0.80505719  1.07362707  1.01947924  0.96568957  0.95473898]\n"
     ]
    }
   ],
   "source": [
    "import numpy as np\n",
    "cov_mat = np.cov(X_train_std.T)\n",
    "eigen_vals, eigen_vecs = np.linalg.eig(cov_mat)\n",
    "print('\\nEigenvalues \\n%s' % eigen_vals)"
   ]
  },
  {
   "cell_type": "code",
   "execution_count": 155,
   "metadata": {
    "collapsed": true
   },
   "outputs": [],
   "source": [
    "eigen_pairs =[(np.abs(eigen_vals[i]),eigen_vecs[:,i]) for i in range(len(eigen_vals))]\n",
    "eigen_pairs.sort(reverse=True)"
   ]
  },
  {
   "cell_type": "code",
   "execution_count": 156,
   "metadata": {},
   "outputs": [
    {
     "name": "stdout",
     "output_type": "stream",
     "text": [
      "Matrix W:\n",
      " [[ 0.11026165 -0.24320662]\n",
      " [ 0.07908248 -0.22011209]\n",
      " [ 0.17641471 -0.34351924]\n",
      " [-0.24027762  0.34485009]\n",
      " [ 0.01232916  0.13367386]\n",
      " [ 0.29098602 -0.41553567]\n",
      " [ 0.16723689 -0.22862938]\n",
      " [-0.60049853 -0.3618475 ]\n",
      " [ 0.22281049 -0.34306589]\n",
      " [-0.60621758 -0.3522983 ]\n",
      " [-0.03532952  0.12640871]\n",
      " [-0.03080384  0.15473561]]\n"
     ]
    }
   ],
   "source": [
    "w= np.hstack((eigen_pairs[0][1][:, np.newaxis], eigen_pairs[1][1][:, np.newaxis]))\n",
    "print('Matrix W:\\n',w)"
   ]
  },
  {
   "cell_type": "code",
   "execution_count": 157,
   "metadata": {},
   "outputs": [
    {
     "data": {
      "text/plain": [
       "array([-1.32360773, -1.88358179])"
      ]
     },
     "execution_count": 157,
     "metadata": {},
     "output_type": "execute_result"
    }
   ],
   "source": [
    "X_train_std[0].dot(w)"
   ]
  },
  {
   "cell_type": "code",
   "execution_count": 158,
   "metadata": {},
   "outputs": [
    {
     "data": {
      "image/png": "[encoded data removed]",
      "text/plain": [
       "<matplotlib.figure.Figure at 0x1021d668>"
      ]
     },
     "metadata": {},
     "output_type": "display_data"
    }
   ],
   "source": [
    "X_train_pca = X_train_std.dot(w)\n",
    "colors = ['r', 'b', 'g']\n",
    "markers = ['s', 'x', 'o']\n",
    "for l, c, m in zip(np.unique(y_train), colors, markers):\n",
    "    plt.scatter(X_train_pca[y_train==l, 0], X_train_pca[y_train==l, 1], c=c, label=l, marker=m)\n",
    "plt.xlabel('PC 1')\n",
    "plt.ylabel('PC 2')\n",
    "plt.legend(loc='lower left')\n",
    "plt.show()"
   ]
  },
  {
   "cell_type": "code",
   "execution_count": null,
   "metadata": {
    "collapsed": true
   },
   "outputs": [],
   "source": []
  }
 ],
 "metadata": {
  "kernelspec": {
   "display_name": "Python 3",
   "language": "python",
   "name": "python3"
  },
  "language_info": {
   "codemirror_mode": {
    "name": "ipython",
    "version": 3
   },
   "file_extension": ".py",
   "mimetype": "text/x-python",
   "name": "python",
   "nbconvert_exporter": "python",
   "pygments_lexer": "ipython3",
   "version": "3.6.1"
  }
 },
 "nbformat": 4,
 "nbformat_minor": 2
}
