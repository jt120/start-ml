{
 "cells": [
  {
   "cell_type": "code",
   "execution_count": 1,
   "metadata": {
    "collapsed": true
   },
   "outputs": [],
   "source": [
    "# 数据对齐是个问题\n",
    "# 成交量和价格的积\n",
    "\n",
    "# 不同频率的时间序列\n",
    "# resample和reindex\n",
    "# pct_change\n",
    "# cumprod\n",
    "import pandas as pd\n",
    "import numpy as np"
   ]
  },
  {
   "cell_type": "code",
   "execution_count": 15,
   "metadata": {
    "collapsed": false
   },
   "outputs": [
    {
     "data": {
      "text/html": [
       "<div>\n",
       "<table border=\"1\" class=\"dataframe\">\n",
       "  <thead>\n",
       "    <tr style=\"text-align: right;\">\n",
       "      <th></th>\n",
       "      <th>AA</th>\n",
       "      <th>AAPL</th>\n",
       "      <th>GE</th>\n",
       "      <th>IBM</th>\n",
       "      <th>JNJ</th>\n",
       "      <th>MSFT</th>\n",
       "      <th>PEP</th>\n",
       "      <th>SPX</th>\n",
       "      <th>XOM</th>\n",
       "    </tr>\n",
       "  </thead>\n",
       "  <tbody>\n",
       "    <tr>\n",
       "      <th>1990-02-01</th>\n",
       "      <td>4.98</td>\n",
       "      <td>7.86</td>\n",
       "      <td>2.87</td>\n",
       "      <td>16.79</td>\n",
       "      <td>4.27</td>\n",
       "      <td>0.51</td>\n",
       "      <td>6.04</td>\n",
       "      <td>328.79</td>\n",
       "      <td>6.12</td>\n",
       "    </tr>\n",
       "    <tr>\n",
       "      <th>1990-02-02</th>\n",
       "      <td>5.04</td>\n",
       "      <td>8.00</td>\n",
       "      <td>2.87</td>\n",
       "      <td>16.89</td>\n",
       "      <td>4.37</td>\n",
       "      <td>0.51</td>\n",
       "      <td>6.09</td>\n",
       "      <td>330.92</td>\n",
       "      <td>6.24</td>\n",
       "    </tr>\n",
       "    <tr>\n",
       "      <th>1990-02-05</th>\n",
       "      <td>5.07</td>\n",
       "      <td>8.18</td>\n",
       "      <td>2.87</td>\n",
       "      <td>17.32</td>\n",
       "      <td>4.34</td>\n",
       "      <td>0.51</td>\n",
       "      <td>6.05</td>\n",
       "      <td>331.85</td>\n",
       "      <td>6.25</td>\n",
       "    </tr>\n",
       "    <tr>\n",
       "      <th>1990-02-06</th>\n",
       "      <td>5.01</td>\n",
       "      <td>8.12</td>\n",
       "      <td>2.88</td>\n",
       "      <td>17.56</td>\n",
       "      <td>4.32</td>\n",
       "      <td>0.51</td>\n",
       "      <td>6.15</td>\n",
       "      <td>329.66</td>\n",
       "      <td>6.23</td>\n",
       "    </tr>\n",
       "    <tr>\n",
       "      <th>1990-02-07</th>\n",
       "      <td>5.04</td>\n",
       "      <td>7.77</td>\n",
       "      <td>2.91</td>\n",
       "      <td>17.93</td>\n",
       "      <td>4.38</td>\n",
       "      <td>0.51</td>\n",
       "      <td>6.17</td>\n",
       "      <td>333.75</td>\n",
       "      <td>6.33</td>\n",
       "    </tr>\n",
       "  </tbody>\n",
       "</table>\n",
       "</div>"
      ],
      "text/plain": [
       "              AA  AAPL    GE    IBM   JNJ  MSFT   PEP     SPX   XOM\n",
       "1990-02-01  4.98  7.86  2.87  16.79  4.27  0.51  6.04  328.79  6.12\n",
       "1990-02-02  5.04  8.00  2.87  16.89  4.37  0.51  6.09  330.92  6.24\n",
       "1990-02-05  5.07  8.18  2.87  17.32  4.34  0.51  6.05  331.85  6.25\n",
       "1990-02-06  5.01  8.12  2.88  17.56  4.32  0.51  6.15  329.66  6.23\n",
       "1990-02-07  5.04  7.77  2.91  17.93  4.38  0.51  6.17  333.75  6.33"
      ]
     },
     "execution_count": 15,
     "metadata": {},
     "output_type": "execute_result"
    }
   ],
   "source": [
    "prices = pd.read_csv('d:/project/ml/python/pydata-book-master/ch11/stock_px.csv', parse_dates=True, index_col=0)\n",
    "volume = pd.read_csv('d:/project/ml/python/pydata-book-master/ch11/volume.csv', parse_dates=True, index_col=0)\n",
    "prices.head()"
   ]
  },
  {
   "cell_type": "code",
   "execution_count": 16,
   "metadata": {
    "collapsed": false
   },
   "outputs": [
    {
     "data": {
      "text/html": [
       "<div>\n",
       "<table border=\"1\" class=\"dataframe\">\n",
       "  <thead>\n",
       "    <tr style=\"text-align: right;\">\n",
       "      <th></th>\n",
       "      <th>AA</th>\n",
       "      <th>AAPL</th>\n",
       "      <th>GE</th>\n",
       "      <th>IBM</th>\n",
       "      <th>JNJ</th>\n",
       "      <th>MSFT</th>\n",
       "      <th>PEP</th>\n",
       "      <th>SPX</th>\n",
       "      <th>XOM</th>\n",
       "    </tr>\n",
       "  </thead>\n",
       "  <tbody>\n",
       "    <tr>\n",
       "      <th>1990-02-01</th>\n",
       "      <td>2185600.0</td>\n",
       "      <td>4193200.0</td>\n",
       "      <td>14457600.0</td>\n",
       "      <td>6903600.0</td>\n",
       "      <td>5942400.0</td>\n",
       "      <td>89193600.0</td>\n",
       "      <td>2954400.0</td>\n",
       "      <td>154580000.0</td>\n",
       "      <td>2916400.0</td>\n",
       "    </tr>\n",
       "    <tr>\n",
       "      <th>1990-02-02</th>\n",
       "      <td>3103200.0</td>\n",
       "      <td>4248800.0</td>\n",
       "      <td>15302400.0</td>\n",
       "      <td>6064400.0</td>\n",
       "      <td>4732800.0</td>\n",
       "      <td>71395200.0</td>\n",
       "      <td>2424000.0</td>\n",
       "      <td>164400000.0</td>\n",
       "      <td>4250000.0</td>\n",
       "    </tr>\n",
       "    <tr>\n",
       "      <th>1990-02-05</th>\n",
       "      <td>1792800.0</td>\n",
       "      <td>3653200.0</td>\n",
       "      <td>9134400.0</td>\n",
       "      <td>5299200.0</td>\n",
       "      <td>3950400.0</td>\n",
       "      <td>59731200.0</td>\n",
       "      <td>2225400.0</td>\n",
       "      <td>130950000.0</td>\n",
       "      <td>5880800.0</td>\n",
       "    </tr>\n",
       "    <tr>\n",
       "      <th>1990-02-06</th>\n",
       "      <td>2205600.0</td>\n",
       "      <td>2640000.0</td>\n",
       "      <td>14389200.0</td>\n",
       "      <td>10808000.0</td>\n",
       "      <td>3761600.0</td>\n",
       "      <td>81964800.0</td>\n",
       "      <td>3270000.0</td>\n",
       "      <td>134070000.0</td>\n",
       "      <td>4750800.0</td>\n",
       "    </tr>\n",
       "    <tr>\n",
       "      <th>1990-02-07</th>\n",
       "      <td>3592800.0</td>\n",
       "      <td>11180800.0</td>\n",
       "      <td>18704400.0</td>\n",
       "      <td>12057600.0</td>\n",
       "      <td>5458400.0</td>\n",
       "      <td>134150400.0</td>\n",
       "      <td>4332600.0</td>\n",
       "      <td>186710000.0</td>\n",
       "      <td>4124800.0</td>\n",
       "    </tr>\n",
       "  </tbody>\n",
       "</table>\n",
       "</div>"
      ],
      "text/plain": [
       "                   AA        AAPL          GE         IBM        JNJ  \\\n",
       "1990-02-01  2185600.0   4193200.0  14457600.0   6903600.0  5942400.0   \n",
       "1990-02-02  3103200.0   4248800.0  15302400.0   6064400.0  4732800.0   \n",
       "1990-02-05  1792800.0   3653200.0   9134400.0   5299200.0  3950400.0   \n",
       "1990-02-06  2205600.0   2640000.0  14389200.0  10808000.0  3761600.0   \n",
       "1990-02-07  3592800.0  11180800.0  18704400.0  12057600.0  5458400.0   \n",
       "\n",
       "                   MSFT        PEP          SPX        XOM  \n",
       "1990-02-01   89193600.0  2954400.0  154580000.0  2916400.0  \n",
       "1990-02-02   71395200.0  2424000.0  164400000.0  4250000.0  \n",
       "1990-02-05   59731200.0  2225400.0  130950000.0  5880800.0  \n",
       "1990-02-06   81964800.0  3270000.0  134070000.0  4750800.0  \n",
       "1990-02-07  134150400.0  4332600.0  186710000.0  4124800.0  "
      ]
     },
     "execution_count": 16,
     "metadata": {},
     "output_type": "execute_result"
    }
   ],
   "source": [
    "volume.head()"
   ]
  },
  {
   "cell_type": "code",
   "execution_count": 18,
   "metadata": {
    "collapsed": false
   },
   "outputs": [
    {
     "data": {
      "text/html": [
       "<div>\n",
       "<table border=\"1\" class=\"dataframe\">\n",
       "  <thead>\n",
       "    <tr style=\"text-align: right;\">\n",
       "      <th></th>\n",
       "      <th>AA</th>\n",
       "      <th>AAPL</th>\n",
       "      <th>GE</th>\n",
       "      <th>IBM</th>\n",
       "      <th>JNJ</th>\n",
       "      <th>MSFT</th>\n",
       "      <th>PEP</th>\n",
       "      <th>SPX</th>\n",
       "      <th>XOM</th>\n",
       "    </tr>\n",
       "  </thead>\n",
       "  <tbody>\n",
       "    <tr>\n",
       "      <th>1990-02-01</th>\n",
       "      <td>10884288.0</td>\n",
       "      <td>32958552.0</td>\n",
       "      <td>41493312.0</td>\n",
       "      <td>115911444.0</td>\n",
       "      <td>25374048.0</td>\n",
       "      <td>45488736.0</td>\n",
       "      <td>17844576.0</td>\n",
       "      <td>5.082436e+10</td>\n",
       "      <td>17848368.0</td>\n",
       "    </tr>\n",
       "    <tr>\n",
       "      <th>1990-02-02</th>\n",
       "      <td>15640128.0</td>\n",
       "      <td>33990400.0</td>\n",
       "      <td>43917888.0</td>\n",
       "      <td>102427716.0</td>\n",
       "      <td>20682336.0</td>\n",
       "      <td>36411552.0</td>\n",
       "      <td>14762160.0</td>\n",
       "      <td>5.440325e+10</td>\n",
       "      <td>26520000.0</td>\n",
       "    </tr>\n",
       "    <tr>\n",
       "      <th>1990-02-05</th>\n",
       "      <td>9089496.0</td>\n",
       "      <td>29883176.0</td>\n",
       "      <td>26215728.0</td>\n",
       "      <td>91782144.0</td>\n",
       "      <td>17144736.0</td>\n",
       "      <td>30462912.0</td>\n",
       "      <td>13463670.0</td>\n",
       "      <td>4.345576e+10</td>\n",
       "      <td>36755000.0</td>\n",
       "    </tr>\n",
       "    <tr>\n",
       "      <th>1990-02-06</th>\n",
       "      <td>11050056.0</td>\n",
       "      <td>21436800.0</td>\n",
       "      <td>41440896.0</td>\n",
       "      <td>189788480.0</td>\n",
       "      <td>16250112.0</td>\n",
       "      <td>41802048.0</td>\n",
       "      <td>20110500.0</td>\n",
       "      <td>4.419752e+10</td>\n",
       "      <td>29597484.0</td>\n",
       "    </tr>\n",
       "    <tr>\n",
       "      <th>1990-02-07</th>\n",
       "      <td>18107712.0</td>\n",
       "      <td>86874816.0</td>\n",
       "      <td>54429804.0</td>\n",
       "      <td>216192768.0</td>\n",
       "      <td>23907792.0</td>\n",
       "      <td>68416704.0</td>\n",
       "      <td>26732142.0</td>\n",
       "      <td>6.231446e+10</td>\n",
       "      <td>26109984.0</td>\n",
       "    </tr>\n",
       "  </tbody>\n",
       "</table>\n",
       "</div>"
      ],
      "text/plain": [
       "                    AA        AAPL          GE          IBM         JNJ  \\\n",
       "1990-02-01  10884288.0  32958552.0  41493312.0  115911444.0  25374048.0   \n",
       "1990-02-02  15640128.0  33990400.0  43917888.0  102427716.0  20682336.0   \n",
       "1990-02-05   9089496.0  29883176.0  26215728.0   91782144.0  17144736.0   \n",
       "1990-02-06  11050056.0  21436800.0  41440896.0  189788480.0  16250112.0   \n",
       "1990-02-07  18107712.0  86874816.0  54429804.0  216192768.0  23907792.0   \n",
       "\n",
       "                  MSFT         PEP           SPX         XOM  \n",
       "1990-02-01  45488736.0  17844576.0  5.082436e+10  17848368.0  \n",
       "1990-02-02  36411552.0  14762160.0  5.440325e+10  26520000.0  \n",
       "1990-02-05  30462912.0  13463670.0  4.345576e+10  36755000.0  \n",
       "1990-02-06  41802048.0  20110500.0  4.419752e+10  29597484.0  \n",
       "1990-02-07  68416704.0  26732142.0  6.231446e+10  26109984.0  "
      ]
     },
     "execution_count": 18,
     "metadata": {},
     "output_type": "execute_result"
    }
   ],
   "source": [
    "(prices*volume).head()"
   ]
  },
  {
   "cell_type": "code",
   "execution_count": 21,
   "metadata": {
    "collapsed": false
   },
   "outputs": [
    {
     "data": {
      "text/plain": [
       "AA        17.084474\n",
       "AAPL      81.246271\n",
       "GE        18.205646\n",
       "IBM       61.333701\n",
       "JNJ       40.576111\n",
       "MSFT      16.923765\n",
       "PEP       38.953033\n",
       "SPX     1134.418556\n",
       "XOM       50.520303\n",
       "dtype: float64"
      ]
     },
     "execution_count": 21,
     "metadata": {},
     "output_type": "execute_result"
    }
   ],
   "source": [
    "vwamp = (prices*volume).sum()/volume.sum()\n",
    "vwamp"
   ]
  },
  {
   "cell_type": "code",
   "execution_count": 4,
   "metadata": {
    "collapsed": false
   },
   "outputs": [
    {
     "data": {
      "text/plain": [
       "2011-10-10    388.81\n",
       "2011-10-11    400.29\n",
       "2011-10-12    402.19\n",
       "2011-10-13    408.43\n",
       "2011-10-14    422.00\n",
       "Name: AAPL, dtype: float64"
      ]
     },
     "execution_count": 4,
     "metadata": {},
     "output_type": "execute_result"
    }
   ],
   "source": [
    "price_a = prices['AAPL']\n",
    "price_a[-5:]"
   ]
  },
  {
   "cell_type": "code",
   "execution_count": 5,
   "metadata": {
    "collapsed": false
   },
   "outputs": [
    {
     "data": {
      "text/plain": [
       "1990-02-01    7.86\n",
       "1990-02-02    8.00\n",
       "1990-02-05    8.18\n",
       "1990-02-06    8.12\n",
       "1990-02-07    7.77\n",
       "Name: AAPL, dtype: float64"
      ]
     },
     "execution_count": 5,
     "metadata": {},
     "output_type": "execute_result"
    }
   ],
   "source": [
    "price_a[:5]"
   ]
  },
  {
   "cell_type": "code",
   "execution_count": 7,
   "metadata": {
    "collapsed": false
   },
   "outputs": [
    {
     "data": {
      "text/plain": [
       "0.072399874037388123"
      ]
     },
     "execution_count": 7,
     "metadata": {},
     "output_type": "execute_result"
    }
   ],
   "source": [
    "price_a['2011-10-03']/price_a['2011-3-01']-1"
   ]
  },
  {
   "cell_type": "code",
   "execution_count": 9,
   "metadata": {
    "collapsed": false
   },
   "outputs": [
    {
     "data": {
      "text/plain": [
       "2011-10-10    0.051406\n",
       "2011-10-11    0.029526\n",
       "2011-10-12    0.004747\n",
       "2011-10-13    0.015515\n",
       "2011-10-14    0.033225\n",
       "Name: AAPL, dtype: float64"
      ]
     },
     "execution_count": 9,
     "metadata": {},
     "output_type": "execute_result"
    }
   ],
   "source": [
    "returns = price_a.pct_change()\n",
    "returns.tail()"
   ]
  },
  {
   "cell_type": "code",
   "execution_count": 10,
   "metadata": {
    "collapsed": false
   },
   "outputs": [
    {
     "data": {
      "text/plain": [
       "2011-10-10    49.466921\n",
       "2011-10-11    50.927481\n",
       "2011-10-12    51.169211\n",
       "2011-10-13    51.963104\n",
       "2011-10-14    53.689567\n",
       "Name: AAPL, dtype: float64"
      ]
     },
     "execution_count": 10,
     "metadata": {},
     "output_type": "execute_result"
    }
   ],
   "source": [
    "ret_index = (1+returns).cumprod()\n",
    "ret_index[0] = 1\n",
    "ret_index.tail()"
   ]
  },
  {
   "cell_type": "code",
   "execution_count": 13,
   "metadata": {
    "collapsed": false
   },
   "outputs": [
    {
     "name": "stderr",
     "output_type": "stream",
     "text": [
      "C:\\Anaconda2\\lib\\site-packages\\ipykernel\\__main__.py:7: FutureWarning: pd.rolling_corr is deprecated for Series and will be removed in a future version, replace with \n",
      "\tSeries.rolling(window=250).corr(other=<Series>)\n"
     ]
    },
    {
     "data": {
      "text/plain": [
       "<matplotlib.axes._subplots.AxesSubplot at 0x96e4f60>"
      ]
     },
     "execution_count": 13,
     "metadata": {},
     "output_type": "execute_result"
    },
    {
     "data": {
      "image/png": "[encoded data removed]",
      "text/plain": [
       "<matplotlib.figure.Figure at 0x86cd898>"
      ]
     },
     "metadata": {},
     "output_type": "display_data"
    }
   ],
   "source": [
    "# dynamic model\n",
    "# moving window\n",
    "# correlation\n",
    "aapl_rets = price['AAPL'].pct_change()\n",
    "msft_rets=price['MSFT'].pct_change()\n",
    "%matplotlib inline\n",
    "pd.rolling_corr(aapl_rets, msft_rets, 250).plot()"
   ]
  },
  {
   "cell_type": "code",
   "execution_count": null,
   "metadata": {
    "collapsed": true
   },
   "outputs": [],
   "source": []
  }
 ],
 "metadata": {
  "kernelspec": {
   "display_name": "Python 2",
   "language": "python",
   "name": "python2"
  },
  "language_info": {
   "codemirror_mode": {
    "name": "ipython",
    "version": 2
   },
   "file_extension": ".py",
   "mimetype": "text/x-python",
   "name": "python",
   "nbconvert_exporter": "python",
   "pygments_lexer": "ipython2",
   "version": "2.7.11"
  }
 },
 "nbformat": 4,
 "nbformat_minor": 0
}
