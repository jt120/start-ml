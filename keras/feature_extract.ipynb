{
 "cells": [
  {
   "cell_type": "code",
   "execution_count": null,
   "metadata": {},
   "outputs": [],
   "source": [
    "import numpy as np\n",
    "import keras\n",
    "from keras import models\n",
    "from keras import layers\n",
    "import glob\n",
    "import PIL.Image as Image\n",
    "import os\n",
    "\n",
    "import matplotlib.pyplot as plt\n",
    "# from keras.preprocessing import image\n",
    "# from keras.applications.mobilenetv2 import preprocess_input, decode_predictions\n",
    "# from keras.applications import nasnet\n",
    "\n",
    "\n",
    "%matplotlib inline"
   ]
  },
  {
   "cell_type": "code",
   "execution_count": null,
   "metadata": {},
   "outputs": [],
   "source": [
    "def norm(a):\n",
    "    return a/np.linalg.norm(a)\n",
    "\n",
    "def encode2(img_file, model):\n",
    "#     img = image.load_img(img_file, target_size=(224,224))\n",
    "#     x = image.img_to_array(img)\n",
    "#     x = np.expand_dims(x, axis=0)\n",
    "#     x = nasnet.preprocess_input(x)\n",
    "#     preds = model.predict(x)\n",
    "#     preds = preds.squeeze()\n",
    "    \n",
    "    img = image.load_img(file, target_size=(224,224))\n",
    "    x = image.img_to_array(img)\n",
    "    x = np.expand_dims(x, axis=0)\n",
    "    x = nasnet.preprocess_input(x)\n",
    "    pred = model.predict(x)\n",
    "    pred = pred.squeeze()\n",
    "    return pred\n",
    "\n",
    "def compare(target, features):\n",
    "    d = np.linalg.norm(features-target, axis=1)\n",
    "    print(d)\n",
    "    return np.argsort(d)[:30], d\n",
    "\n",
    "def init_mobile():\n",
    "    conv_base = keras.applications.MobileNetV2(weights='imagenet', include_top=False, input_shape=(224,224,3))\n",
    "    model = models.Sequential()\n",
    "    model.add(conv_base)\n",
    "    model.add(layers.MaxPool2D((7,7)))\n",
    "    conv_base.trainable = False\n",
    "    return model"
   ]
  },
  {
   "cell_type": "code",
   "execution_count": null,
   "metadata": {},
   "outputs": [],
   "source": [
    "\n",
    "def init(model):\n",
    "    files = []\n",
    "    for f in glob.glob('e:/pics/test/*.jpg'):\n",
    "        files.append(f)\n",
    "    files = np.array(files)\n",
    "\n",
    "    features = []\n",
    "    for f in glob.glob('e:/pics/test/*.jpg'):\n",
    "    #     img = image.load_img(f, target_size=(224,224))\n",
    "        feature = encode2(f, model)\n",
    "        features.append(feature)\n",
    "    features = np.array(features)\n",
    "    features = features.squeeze()\n",
    "    return files, features"
   ]
  },
  {
   "cell_type": "code",
   "execution_count": null,
   "metadata": {},
   "outputs": [],
   "source": [
    "a = np.array([1,2,3,4])\n",
    "np.linalg.norm(a)"
   ]
  },
  {
   "cell_type": "code",
   "execution_count": null,
   "metadata": {},
   "outputs": [],
   "source": [
    "np.sqrt(np.sum(a**2))"
   ]
  },
  {
   "cell_type": "code",
   "execution_count": null,
   "metadata": {},
   "outputs": [],
   "source": [
    "a/np.linalg.norm(a)"
   ]
  },
  {
   "cell_type": "code",
   "execution_count": null,
   "metadata": {},
   "outputs": [],
   "source": [
    "(a/np.linalg.norm(a)).sum()"
   ]
  },
  {
   "cell_type": "code",
   "execution_count": null,
   "metadata": {},
   "outputs": [],
   "source": [
    "a = np.array([1,2,3,4])\n",
    "a = norm(a)"
   ]
  },
  {
   "cell_type": "code",
   "execution_count": null,
   "metadata": {},
   "outputs": [],
   "source": [
    "b = np.array([1,2,2.5,4])\n",
    "b = norm(b)\n",
    "c = np.array([2,5,3,6])\n",
    "c = norm(c)\n",
    "\n",
    "f = [b,c]"
   ]
  },
  {
   "cell_type": "code",
   "execution_count": null,
   "metadata": {},
   "outputs": [],
   "source": [
    "b-a"
   ]
  },
  {
   "cell_type": "code",
   "execution_count": null,
   "metadata": {
    "scrolled": true
   },
   "outputs": [],
   "source": [
    "f-a"
   ]
  },
  {
   "cell_type": "code",
   "execution_count": null,
   "metadata": {},
   "outputs": [],
   "source": [
    "d = np.linalg.norm(f-a, axis=1)\n",
    "np.argsort(d)[:30]"
   ]
  },
  {
   "cell_type": "code",
   "execution_count": null,
   "metadata": {},
   "outputs": [],
   "source": [
    "# with top\n",
    "model.summary()"
   ]
  },
  {
   "cell_type": "code",
   "execution_count": null,
   "metadata": {},
   "outputs": [],
   "source": [
    "# no top\n",
    "model.summary()"
   ]
  },
  {
   "cell_type": "code",
   "execution_count": null,
   "metadata": {},
   "outputs": [],
   "source": [
    "img1 = image.load_img('e:/pics/test/a1.jpg', target_size=(224,224))\n",
    "img1"
   ]
  },
  {
   "cell_type": "code",
   "execution_count": null,
   "metadata": {},
   "outputs": [],
   "source": [
    "# change a1, toddle\n",
    "img2 = image.load_img('e:/pics/test/a1_c.jpg', target_size=(224,224))\n",
    "img2"
   ]
  },
  {
   "cell_type": "code",
   "execution_count": null,
   "metadata": {},
   "outputs": [],
   "source": [
    "def encode(img):\n",
    "    x = image.img_to_array(img)\n",
    "    x = np.expand_dims(x, axis=0)\n",
    "    x = preprocess_input(x)\n",
    "\n",
    "    preds = model.predict(x)\n",
    "    preds = preds.reshape(1,-1)\n",
    "    print(preds.shape)\n",
    "#     preds = keras.layers.MaxPool2D(7)(preds)\n",
    "#     print(preds.shape)\n",
    "    return preds"
   ]
  },
  {
   "cell_type": "code",
   "execution_count": null,
   "metadata": {},
   "outputs": [],
   "source": [
    "r1 =encode(img1)\n",
    "r2 = encode(img2)"
   ]
  },
  {
   "cell_type": "code",
   "execution_count": null,
   "metadata": {},
   "outputs": [],
   "source": [
    "r = r.reshape(1,-1)\n",
    "r.shape"
   ]
  },
  {
   "cell_type": "code",
   "execution_count": null,
   "metadata": {
    "scrolled": true
   },
   "outputs": [],
   "source": [
    "r = features - r1\n",
    "r.shape"
   ]
  },
  {
   "cell_type": "code",
   "execution_count": null,
   "metadata": {},
   "outputs": [],
   "source": [
    "np.linalg.norm(features-r1, axis=1)"
   ]
  },
  {
   "cell_type": "code",
   "execution_count": null,
   "metadata": {},
   "outputs": [],
   "source": [
    "compare(r1, features)"
   ]
  },
  {
   "cell_type": "code",
   "execution_count": null,
   "metadata": {},
   "outputs": [],
   "source": [
    "img = image.load_img('e:/pics/test/a1_c3.jpg', target_size=(224,224))\n",
    "r =encode(img)\n",
    "rank, d = compare(r, features)"
   ]
  },
  {
   "cell_type": "code",
   "execution_count": null,
   "metadata": {
    "scrolled": true
   },
   "outputs": [],
   "source": [
    "rank"
   ]
  },
  {
   "cell_type": "code",
   "execution_count": null,
   "metadata": {},
   "outputs": [],
   "source": [
    "rank"
   ]
  },
  {
   "cell_type": "code",
   "execution_count": null,
   "metadata": {},
   "outputs": [],
   "source": [
    "files[rank]"
   ]
  },
  {
   "cell_type": "code",
   "execution_count": null,
   "metadata": {},
   "outputs": [],
   "source": [
    "model.summary()"
   ]
  },
  {
   "cell_type": "code",
   "execution_count": null,
   "metadata": {},
   "outputs": [],
   "source": [
    "preds.shape"
   ]
  },
  {
   "cell_type": "code",
   "execution_count": null,
   "metadata": {},
   "outputs": [],
   "source": [
    "features = []\n",
    "for f in glob.glob('e:/pics/test/*.jpg'):\n",
    "    feature = encode2(f)\n",
    "    features.append(feature)\n",
    "features = np.array(features)\n",
    "features = features.squeeze()\n",
    "print(features.shape)"
   ]
  },
  {
   "cell_type": "code",
   "execution_count": null,
   "metadata": {},
   "outputs": [],
   "source": [
    "r = encode2('e:/pics/test/a1.jpg')\n",
    "r = r.reshape(1,-1)\n",
    "print(r.shape)"
   ]
  },
  {
   "cell_type": "code",
   "execution_count": null,
   "metadata": {},
   "outputs": [],
   "source": [
    "# with max pool, similarity is better than no pool\n",
    "r = encode2('e:/pics/test/a1.jpg')\n",
    "r = r.reshape(1,-1)\n",
    "print(r.shape)\n",
    "\n",
    "r, d= compare(r, features)\n",
    "d = d.reshape(-1,1)\n",
    "d*=1.0/d.max()\n",
    "d = 1-d\n",
    "print(d)"
   ]
  },
  {
   "cell_type": "code",
   "execution_count": null,
   "metadata": {},
   "outputs": [],
   "source": [
    "from sklearn import preprocessing"
   ]
  },
  {
   "cell_type": "code",
   "execution_count": null,
   "metadata": {
    "scrolled": true
   },
   "outputs": [],
   "source": [
    "norm = preprocessing.MinMaxScaler()\n",
    "d = d.reshape(-1,1)\n",
    "norm.fit_transform(d)"
   ]
  },
  {
   "cell_type": "code",
   "execution_count": null,
   "metadata": {},
   "outputs": [],
   "source": [
    "nas = nasnet.NASNetMobile(weights='imagenet', include_top=False, input_shape = (224, 224, 3) )\n",
    "model = models.Sequential()\n",
    "model.add(nas)\n",
    "model.add(layers.MaxPool2D((7,7)))"
   ]
  },
  {
   "cell_type": "code",
   "execution_count": null,
   "metadata": {},
   "outputs": [],
   "source": [
    "nas.trainable = False"
   ]
  },
  {
   "cell_type": "code",
   "execution_count": null,
   "metadata": {},
   "outputs": [],
   "source": [
    "files, featurs = init(nas)"
   ]
  },
  {
   "cell_type": "code",
   "execution_count": null,
   "metadata": {},
   "outputs": [],
   "source": [
    "img = encode2('e:/pics/test/a1.jpg', nas)\n",
    "img.shape"
   ]
  },
  {
   "cell_type": "code",
   "execution_count": null,
   "metadata": {},
   "outputs": [],
   "source": [
    "compare(img, features)"
   ]
  },
  {
   "cell_type": "code",
   "execution_count": null,
   "metadata": {},
   "outputs": [],
   "source": [
    "img = image.load_img('e:/pics/test/a1.jpg', target_size=(224,224))\n",
    "x = image.img_to_array(img)\n",
    "x = np.expand_dims(x, axis=0)\n",
    "x = nasnet.preprocess_input(x)\n",
    "pred = nas.predict(x)\n",
    "pred = pred.squeeze()\n",
    "print(pred.shape)"
   ]
  },
  {
   "cell_type": "code",
   "execution_count": null,
   "metadata": {},
   "outputs": [],
   "source": [
    "pred.shape"
   ]
  },
  {
   "cell_type": "code",
   "execution_count": null,
   "metadata": {},
   "outputs": [],
   "source": [
    "import torchvision as tv\n",
    "import torch as t\n",
    "from torchvision import transforms"
   ]
  },
  {
   "cell_type": "code",
   "execution_count": null,
   "metadata": {},
   "outputs": [],
   "source": [
    "resnet34 = tv.models.resnet34(pretrained=True)\n"
   ]
  },
  {
   "cell_type": "code",
   "execution_count": null,
   "metadata": {},
   "outputs": [],
   "source": [
    "model = list(resnet34.children())[:-1]\n",
    "model = t.nn.Sequential(*model)"
   ]
  },
  {
   "cell_type": "code",
   "execution_count": null,
   "metadata": {},
   "outputs": [],
   "source": [
    "for param in model.parameters():\n",
    "    param.required_grad=False"
   ]
  },
  {
   "cell_type": "code",
   "execution_count": null,
   "metadata": {},
   "outputs": [],
   "source": [
    "transform = transforms.Compose([\n",
    "        transforms.Resize(256),\n",
    "        transforms.CenterCrop(224),\n",
    "        transforms.ToTensor(),\n",
    "        transforms.Normalize([0.485, 0.456, 0.406], [0.229, 0.224, 0.225])\n",
    "    ])"
   ]
  },
  {
   "cell_type": "code",
   "execution_count": null,
   "metadata": {},
   "outputs": [],
   "source": [
    "import time"
   ]
  },
  {
   "cell_type": "code",
   "execution_count": null,
   "metadata": {},
   "outputs": [],
   "source": [
    "features = []\n",
    "files = []\n",
    "for i, file in enumerate(glob.glob('e:/pics/mag/*.jpg')):\n",
    "    tic = time.time()\n",
    "    code = encode(file, model)\n",
    "    toc = time.time()\n",
    "    files.append(file)\n",
    "    features.append(code)\n",
    "    if i%20==0:\n",
    "        print('file', file, (toc-tic))\n",
    "    if i>500:\n",
    "        break\n",
    "features = np.array(features)\n",
    "files = np.array(files)\n",
    "\n"
   ]
  },
  {
   "cell_type": "code",
   "execution_count": null,
   "metadata": {},
   "outputs": [],
   "source": [
    "print(len(features), len(files))"
   ]
  },
  {
   "cell_type": "code",
   "execution_count": null,
   "metadata": {},
   "outputs": [],
   "source": [
    "def encode(file, model):\n",
    "    img = Image.open(file)\n",
    "    img = transform(img)\n",
    "    img = img[None,:]\n",
    "    pred = model(img)\n",
    "    pred = pred.data.squeeze_().numpy()\n",
    "    return pred"
   ]
  },
  {
   "cell_type": "code",
   "execution_count": null,
   "metadata": {},
   "outputs": [],
   "source": [
    "files[:10]"
   ]
  },
  {
   "cell_type": "code",
   "execution_count": null,
   "metadata": {
    "scrolled": true
   },
   "outputs": [],
   "source": [
    "file = 'e:/pics/test/img10_2.jpg'\n",
    "f = encode(file, model)\n",
    "f = f.reshape(1,-1)\n",
    "r, d = compare(f, features)\n",
    "# d*=1.0/d.max()\n",
    "# d = 1-d\n",
    "print(r)\n",
    "print(d)\n",
    "\n",
    "    "
   ]
  },
  {
   "cell_type": "code",
   "execution_count": null,
   "metadata": {},
   "outputs": [],
   "source": [
    "np.save('d:/tmp/features.np', features)\n",
    "np.save('d:/tmp/files.np', files)"
   ]
  },
  {
   "cell_type": "code",
   "execution_count": null,
   "metadata": {},
   "outputs": [],
   "source": [
    "features.nbytes/(1024*1024)\n",
    "# cost 0.98 MB"
   ]
  },
  {
   "cell_type": "code",
   "execution_count": null,
   "metadata": {},
   "outputs": [],
   "source": [
    "same_file = files[r]\n",
    "for i, f in enumerate(same_file):\n",
    "    _ = plt.figure()\n",
    "    img = plt.imread(f)\n",
    "    plt.imshow(img)\n",
    "    plt.title(d[i])\n",
    "    plt.axis('off')\n",
    "# change file, similarity not as you think"
   ]
  },
  {
   "cell_type": "code",
   "execution_count": 84,
   "metadata": {},
   "outputs": [
    {
     "data": {
      "text/plain": [
       "(502, 512)"
      ]
     },
     "execution_count": 84,
     "metadata": {},
     "output_type": "execute_result"
    }
   ],
   "source": [
    "features.shape"
   ]
  },
  {
   "cell_type": "code",
   "execution_count": null,
   "metadata": {},
   "outputs": [],
   "source": [
    "def compare(target, features):\n",
    "    d = np.linalg.norm(features-target, axis=1)\n",
    "    rank = np.argsort(d)[:10]\n",
    "    return rank, d[rank]"
   ]
  },
  {
   "cell_type": "code",
   "execution_count": null,
   "metadata": {},
   "outputs": [],
   "source": []
  },
  {
   "cell_type": "code",
   "execution_count": null,
   "metadata": {},
   "outputs": [],
   "source": []
  },
  {
   "cell_type": "code",
   "execution_count": null,
   "metadata": {},
   "outputs": [],
   "source": [
    "path = 'e:\\\\pics\\\\mag'\n",
    "for i, f in enumerate(os.listdir(path)):\n",
    "    name, ext = os.path.splitext(f)\n",
    "    new_name = 'img_'+str(i) + ext\n",
    "    print(new_name)\n",
    "    os.rename(os.path.join(path, f), os.path.join(path, new_name))\n",
    "#     break"
   ]
  },
  {
   "cell_type": "code",
   "execution_count": null,
   "metadata": {},
   "outputs": [],
   "source": []
  }
 ],
 "metadata": {
  "kernelspec": {
   "display_name": "Python 3",
   "language": "python",
   "name": "python3"
  },
  "language_info": {
   "codemirror_mode": {
    "name": "ipython",
    "version": 3
   },
   "file_extension": ".py",
   "mimetype": "text/x-python",
   "name": "python",
   "nbconvert_exporter": "python",
   "pygments_lexer": "ipython3",
   "version": "3.6.4"
  }
 },
 "nbformat": 4,
 "nbformat_minor": 2
}
