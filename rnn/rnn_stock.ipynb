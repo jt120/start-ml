{
 "cells": [
  {
   "cell_type": "code",
   "execution_count": 35,
   "metadata": {},
   "outputs": [
    {
     "name": "stderr",
     "output_type": "stream",
     "text": [
      "C:\\ProgramData\\Anaconda3\\lib\\site-packages\\h5py\\__init__.py:36: FutureWarning: Conversion of the second argument of issubdtype from `float` to `np.floating` is deprecated. In future, it will be treated as `np.float64 == np.dtype(float).type`.\n",
      "  from ._conv import register_converters as _register_converters\n",
      "Using TensorFlow backend.\n"
     ]
    }
   ],
   "source": [
    "import pandas as pd\n",
    "import matplotlib.pyplot as plt\n",
    "\n",
    "from sklearn import preprocessing\n",
    "from sklearn import model_selection\n",
    "\n",
    "from keras.layers.core import Dense, Dropout\n",
    "from keras.layers.recurrent import GRU\n",
    "from keras.models import Sequential, load_model\n",
    "import matplotlib.pyplot as plt\n",
    "import matplotlib.dates as mdates\n",
    "\n",
    "%matplotlib inline"
   ]
  },
  {
   "cell_type": "code",
   "execution_count": 12,
   "metadata": {},
   "outputs": [],
   "source": [
    "df = pd.read_csv('D:/project/ml/course/deepai/dl_course/Stock-Prediction-RNN/prices_stock.csv', index_col=['date'])"
   ]
  },
  {
   "cell_type": "code",
   "execution_count": 13,
   "metadata": {},
   "outputs": [
    {
     "data": {
      "text/html": [
       "<div>\n",
       "<style scoped>\n",
       "    .dataframe tbody tr th:only-of-type {\n",
       "        vertical-align: middle;\n",
       "    }\n",
       "\n",
       "    .dataframe tbody tr th {\n",
       "        vertical-align: top;\n",
       "    }\n",
       "\n",
       "    .dataframe thead th {\n",
       "        text-align: right;\n",
       "    }\n",
       "</style>\n",
       "<table border=\"1\" class=\"dataframe\">\n",
       "  <thead>\n",
       "    <tr style=\"text-align: right;\">\n",
       "      <th></th>\n",
       "      <th>symbol</th>\n",
       "      <th>open</th>\n",
       "      <th>close</th>\n",
       "      <th>low</th>\n",
       "      <th>high</th>\n",
       "      <th>volume</th>\n",
       "    </tr>\n",
       "    <tr>\n",
       "      <th>date</th>\n",
       "      <th></th>\n",
       "      <th></th>\n",
       "      <th></th>\n",
       "      <th></th>\n",
       "      <th></th>\n",
       "      <th></th>\n",
       "    </tr>\n",
       "  </thead>\n",
       "  <tbody>\n",
       "    <tr>\n",
       "      <th>2016-01-05 00:00:00</th>\n",
       "      <td>WLTW</td>\n",
       "      <td>123.430000</td>\n",
       "      <td>125.839996</td>\n",
       "      <td>122.309998</td>\n",
       "      <td>126.250000</td>\n",
       "      <td>2163600.0</td>\n",
       "    </tr>\n",
       "    <tr>\n",
       "      <th>2016-01-06 00:00:00</th>\n",
       "      <td>WLTW</td>\n",
       "      <td>125.239998</td>\n",
       "      <td>119.980003</td>\n",
       "      <td>119.940002</td>\n",
       "      <td>125.540001</td>\n",
       "      <td>2386400.0</td>\n",
       "    </tr>\n",
       "    <tr>\n",
       "      <th>2016-01-07 00:00:00</th>\n",
       "      <td>WLTW</td>\n",
       "      <td>116.379997</td>\n",
       "      <td>114.949997</td>\n",
       "      <td>114.930000</td>\n",
       "      <td>119.739998</td>\n",
       "      <td>2489500.0</td>\n",
       "    </tr>\n",
       "    <tr>\n",
       "      <th>2016-01-08 00:00:00</th>\n",
       "      <td>WLTW</td>\n",
       "      <td>115.480003</td>\n",
       "      <td>116.620003</td>\n",
       "      <td>113.500000</td>\n",
       "      <td>117.440002</td>\n",
       "      <td>2006300.0</td>\n",
       "    </tr>\n",
       "    <tr>\n",
       "      <th>2016-01-11 00:00:00</th>\n",
       "      <td>WLTW</td>\n",
       "      <td>117.010002</td>\n",
       "      <td>114.970001</td>\n",
       "      <td>114.089996</td>\n",
       "      <td>117.330002</td>\n",
       "      <td>1408600.0</td>\n",
       "    </tr>\n",
       "  </tbody>\n",
       "</table>\n",
       "</div>"
      ],
      "text/plain": [
       "                    symbol        open       close         low        high  \\\n",
       "date                                                                         \n",
       "2016-01-05 00:00:00   WLTW  123.430000  125.839996  122.309998  126.250000   \n",
       "2016-01-06 00:00:00   WLTW  125.239998  119.980003  119.940002  125.540001   \n",
       "2016-01-07 00:00:00   WLTW  116.379997  114.949997  114.930000  119.739998   \n",
       "2016-01-08 00:00:00   WLTW  115.480003  116.620003  113.500000  117.440002   \n",
       "2016-01-11 00:00:00   WLTW  117.010002  114.970001  114.089996  117.330002   \n",
       "\n",
       "                        volume  \n",
       "date                            \n",
       "2016-01-05 00:00:00  2163600.0  \n",
       "2016-01-06 00:00:00  2386400.0  \n",
       "2016-01-07 00:00:00  2489500.0  \n",
       "2016-01-08 00:00:00  2006300.0  \n",
       "2016-01-11 00:00:00  1408600.0  "
      ]
     },
     "execution_count": 13,
     "metadata": {},
     "output_type": "execute_result"
    }
   ],
   "source": [
    "df.head()"
   ]
  },
  {
   "cell_type": "code",
   "execution_count": 7,
   "metadata": {},
   "outputs": [
    {
     "data": {
      "text/plain": [
       "DLTR    1762\n",
       "MDT     1762\n",
       "WYNN    1762\n",
       "BA      1762\n",
       "JWN     1762\n",
       "Name: symbol, dtype: int64"
      ]
     },
     "execution_count": 7,
     "metadata": {},
     "output_type": "execute_result"
    }
   ],
   "source": [
    "df.symbol.value_counts().head()"
   ]
  },
  {
   "cell_type": "code",
   "execution_count": 14,
   "metadata": {},
   "outputs": [
    {
     "data": {
      "text/plain": [
       "<matplotlib.axes._subplots.AxesSubplot at 0x19fdc320>"
      ]
     },
     "execution_count": 14,
     "metadata": {},
     "output_type": "execute_result"
    },
    {
     "data": {
      "image/png": "[encoded data removed]",
      "text/plain": [
       "<matplotlib.figure.Figure at 0x19fdacc0>"
      ]
     },
     "metadata": {},
     "output_type": "display_data"
    }
   ],
   "source": [
    "df[df['symbol']=='AMZN']['open'].plot()"
   ]
  },
  {
   "cell_type": "code",
   "execution_count": 123,
   "metadata": {},
   "outputs": [
    {
     "data": {
      "text/plain": [
       "(569, 4)"
      ]
     },
     "execution_count": 123,
     "metadata": {},
     "output_type": "execute_result"
    }
   ],
   "source": [
    "target = df.loc[df['symbol']=='AMZN', ['open', 'low', 'high', 'close']]\n",
    "target.index = pd.to_datetime(target.index)\n",
    "target = target.iloc[(target.index>='2010-01-01')&(target.index<='2012-04-04')]\n",
    "target.shape"
   ]
  },
  {
   "cell_type": "code",
   "execution_count": 122,
   "metadata": {},
   "outputs": [
    {
     "name": "stdout",
     "output_type": "stream",
     "text": [
      "2010-01-04 2016-12-27\n"
     ]
    }
   ],
   "source": [
    "print(target.index.min(), target.index.max())"
   ]
  },
  {
   "cell_type": "code",
   "execution_count": 16,
   "metadata": {},
   "outputs": [
    {
     "data": {
      "text/html": [
       "<div>\n",
       "<style scoped>\n",
       "    .dataframe tbody tr th:only-of-type {\n",
       "        vertical-align: middle;\n",
       "    }\n",
       "\n",
       "    .dataframe tbody tr th {\n",
       "        vertical-align: top;\n",
       "    }\n",
       "\n",
       "    .dataframe thead th {\n",
       "        text-align: right;\n",
       "    }\n",
       "</style>\n",
       "<table border=\"1\" class=\"dataframe\">\n",
       "  <thead>\n",
       "    <tr style=\"text-align: right;\">\n",
       "      <th></th>\n",
       "      <th>open</th>\n",
       "      <th>low</th>\n",
       "      <th>high</th>\n",
       "      <th>close</th>\n",
       "    </tr>\n",
       "    <tr>\n",
       "      <th>date</th>\n",
       "      <th></th>\n",
       "      <th></th>\n",
       "      <th></th>\n",
       "      <th></th>\n",
       "    </tr>\n",
       "  </thead>\n",
       "  <tbody>\n",
       "    <tr>\n",
       "      <th>2010-01-04</th>\n",
       "      <td>136.250000</td>\n",
       "      <td>133.139999</td>\n",
       "      <td>136.610001</td>\n",
       "      <td>133.899994</td>\n",
       "    </tr>\n",
       "    <tr>\n",
       "      <th>2010-01-05</th>\n",
       "      <td>133.429993</td>\n",
       "      <td>131.809998</td>\n",
       "      <td>135.479996</td>\n",
       "      <td>134.690002</td>\n",
       "    </tr>\n",
       "    <tr>\n",
       "      <th>2010-01-06</th>\n",
       "      <td>134.600006</td>\n",
       "      <td>131.649994</td>\n",
       "      <td>134.729996</td>\n",
       "      <td>132.250000</td>\n",
       "    </tr>\n",
       "    <tr>\n",
       "      <th>2010-01-07</th>\n",
       "      <td>132.009995</td>\n",
       "      <td>128.800003</td>\n",
       "      <td>132.320007</td>\n",
       "      <td>130.000000</td>\n",
       "    </tr>\n",
       "    <tr>\n",
       "      <th>2010-01-08</th>\n",
       "      <td>130.559998</td>\n",
       "      <td>129.029999</td>\n",
       "      <td>133.679993</td>\n",
       "      <td>133.520004</td>\n",
       "    </tr>\n",
       "  </tbody>\n",
       "</table>\n",
       "</div>"
      ],
      "text/plain": [
       "                  open         low        high       close\n",
       "date                                                      \n",
       "2010-01-04  136.250000  133.139999  136.610001  133.899994\n",
       "2010-01-05  133.429993  131.809998  135.479996  134.690002\n",
       "2010-01-06  134.600006  131.649994  134.729996  132.250000\n",
       "2010-01-07  132.009995  128.800003  132.320007  130.000000\n",
       "2010-01-08  130.559998  129.029999  133.679993  133.520004"
      ]
     },
     "execution_count": 16,
     "metadata": {},
     "output_type": "execute_result"
    }
   ],
   "source": [
    "target.head()"
   ]
  },
  {
   "cell_type": "code",
   "execution_count": 124,
   "metadata": {},
   "outputs": [
    {
     "data": {
      "text/html": [
       "<div>\n",
       "<style scoped>\n",
       "    .dataframe tbody tr th:only-of-type {\n",
       "        vertical-align: middle;\n",
       "    }\n",
       "\n",
       "    .dataframe tbody tr th {\n",
       "        vertical-align: top;\n",
       "    }\n",
       "\n",
       "    .dataframe thead th {\n",
       "        text-align: right;\n",
       "    }\n",
       "</style>\n",
       "<table border=\"1\" class=\"dataframe\">\n",
       "  <thead>\n",
       "    <tr style=\"text-align: right;\">\n",
       "      <th></th>\n",
       "      <th>open</th>\n",
       "      <th>low</th>\n",
       "      <th>high</th>\n",
       "      <th>close</th>\n",
       "    </tr>\n",
       "    <tr>\n",
       "      <th>date</th>\n",
       "      <th></th>\n",
       "      <th></th>\n",
       "      <th></th>\n",
       "      <th></th>\n",
       "    </tr>\n",
       "  </thead>\n",
       "  <tbody>\n",
       "    <tr>\n",
       "      <th>2010-01-04</th>\n",
       "      <td>132.009995</td>\n",
       "      <td>128.800003</td>\n",
       "      <td>132.320007</td>\n",
       "      <td>130.000000</td>\n",
       "    </tr>\n",
       "    <tr>\n",
       "      <th>2010-01-05</th>\n",
       "      <td>130.559998</td>\n",
       "      <td>129.029999</td>\n",
       "      <td>133.679993</td>\n",
       "      <td>133.520004</td>\n",
       "    </tr>\n",
       "    <tr>\n",
       "      <th>2010-01-06</th>\n",
       "      <td>132.619995</td>\n",
       "      <td>129.210007</td>\n",
       "      <td>132.800003</td>\n",
       "      <td>130.309998</td>\n",
       "    </tr>\n",
       "    <tr>\n",
       "      <th>2010-01-07</th>\n",
       "      <td>128.990005</td>\n",
       "      <td>126.550003</td>\n",
       "      <td>129.820007</td>\n",
       "      <td>127.349998</td>\n",
       "    </tr>\n",
       "    <tr>\n",
       "      <th>2010-01-08</th>\n",
       "      <td>127.900002</td>\n",
       "      <td>125.750000</td>\n",
       "      <td>129.710007</td>\n",
       "      <td>129.110001</td>\n",
       "    </tr>\n",
       "  </tbody>\n",
       "</table>\n",
       "</div>"
      ],
      "text/plain": [
       "                  open         low        high       close\n",
       "date                                                      \n",
       "2010-01-04  132.009995  128.800003  132.320007  130.000000\n",
       "2010-01-05  130.559998  129.029999  133.679993  133.520004\n",
       "2010-01-06  132.619995  129.210007  132.800003  130.309998\n",
       "2010-01-07  128.990005  126.550003  129.820007  127.349998\n",
       "2010-01-08  127.900002  125.750000  129.710007  129.110001"
      ]
     },
     "execution_count": 124,
     "metadata": {},
     "output_type": "execute_result"
    }
   ],
   "source": [
    "target_shift = target.shift(-3)\n",
    "target_shift.head()"
   ]
  },
  {
   "cell_type": "code",
   "execution_count": 125,
   "metadata": {},
   "outputs": [],
   "source": [
    "target['label'] = target_shift['close']"
   ]
  },
  {
   "cell_type": "code",
   "execution_count": 126,
   "metadata": {},
   "outputs": [
    {
     "data": {
      "text/html": [
       "<div>\n",
       "<style scoped>\n",
       "    .dataframe tbody tr th:only-of-type {\n",
       "        vertical-align: middle;\n",
       "    }\n",
       "\n",
       "    .dataframe tbody tr th {\n",
       "        vertical-align: top;\n",
       "    }\n",
       "\n",
       "    .dataframe thead th {\n",
       "        text-align: right;\n",
       "    }\n",
       "</style>\n",
       "<table border=\"1\" class=\"dataframe\">\n",
       "  <thead>\n",
       "    <tr style=\"text-align: right;\">\n",
       "      <th></th>\n",
       "      <th>open</th>\n",
       "      <th>low</th>\n",
       "      <th>high</th>\n",
       "      <th>close</th>\n",
       "      <th>label</th>\n",
       "    </tr>\n",
       "    <tr>\n",
       "      <th>date</th>\n",
       "      <th></th>\n",
       "      <th></th>\n",
       "      <th></th>\n",
       "      <th></th>\n",
       "      <th></th>\n",
       "    </tr>\n",
       "  </thead>\n",
       "  <tbody>\n",
       "    <tr>\n",
       "      <th>2012-03-29</th>\n",
       "      <td>201.279999</td>\n",
       "      <td>200.630005</td>\n",
       "      <td>205.309998</td>\n",
       "      <td>204.610001</td>\n",
       "      <td>199.660004</td>\n",
       "    </tr>\n",
       "    <tr>\n",
       "      <th>2012-03-30</th>\n",
       "      <td>205.020004</td>\n",
       "      <td>201.869995</td>\n",
       "      <td>206.850006</td>\n",
       "      <td>202.509995</td>\n",
       "      <td>193.990005</td>\n",
       "    </tr>\n",
       "    <tr>\n",
       "      <th>2012-04-02</th>\n",
       "      <td>198.020004</td>\n",
       "      <td>197.000000</td>\n",
       "      <td>199.899994</td>\n",
       "      <td>198.050003</td>\n",
       "      <td>NaN</td>\n",
       "    </tr>\n",
       "    <tr>\n",
       "      <th>2012-04-03</th>\n",
       "      <td>198.240005</td>\n",
       "      <td>197.500000</td>\n",
       "      <td>202.389999</td>\n",
       "      <td>199.660004</td>\n",
       "      <td>NaN</td>\n",
       "    </tr>\n",
       "    <tr>\n",
       "      <th>2012-04-04</th>\n",
       "      <td>196.949997</td>\n",
       "      <td>192.360001</td>\n",
       "      <td>197.679993</td>\n",
       "      <td>193.990005</td>\n",
       "      <td>NaN</td>\n",
       "    </tr>\n",
       "  </tbody>\n",
       "</table>\n",
       "</div>"
      ],
      "text/plain": [
       "                  open         low        high       close       label\n",
       "date                                                                  \n",
       "2012-03-29  201.279999  200.630005  205.309998  204.610001  199.660004\n",
       "2012-03-30  205.020004  201.869995  206.850006  202.509995  193.990005\n",
       "2012-04-02  198.020004  197.000000  199.899994  198.050003         NaN\n",
       "2012-04-03  198.240005  197.500000  202.389999  199.660004         NaN\n",
       "2012-04-04  196.949997  192.360001  197.679993  193.990005         NaN"
      ]
     },
     "execution_count": 126,
     "metadata": {},
     "output_type": "execute_result"
    }
   ],
   "source": [
    "target.tail()"
   ]
  },
  {
   "cell_type": "code",
   "execution_count": 127,
   "metadata": {},
   "outputs": [],
   "source": [
    "target = target[target['label'].notnull()]"
   ]
  },
  {
   "cell_type": "code",
   "execution_count": 128,
   "metadata": {},
   "outputs": [
    {
     "data": {
      "text/html": [
       "<div>\n",
       "<style scoped>\n",
       "    .dataframe tbody tr th:only-of-type {\n",
       "        vertical-align: middle;\n",
       "    }\n",
       "\n",
       "    .dataframe tbody tr th {\n",
       "        vertical-align: top;\n",
       "    }\n",
       "\n",
       "    .dataframe thead th {\n",
       "        text-align: right;\n",
       "    }\n",
       "</style>\n",
       "<table border=\"1\" class=\"dataframe\">\n",
       "  <thead>\n",
       "    <tr style=\"text-align: right;\">\n",
       "      <th></th>\n",
       "      <th>open</th>\n",
       "      <th>low</th>\n",
       "      <th>high</th>\n",
       "      <th>close</th>\n",
       "      <th>label</th>\n",
       "    </tr>\n",
       "    <tr>\n",
       "      <th>date</th>\n",
       "      <th></th>\n",
       "      <th></th>\n",
       "      <th></th>\n",
       "      <th></th>\n",
       "      <th></th>\n",
       "    </tr>\n",
       "  </thead>\n",
       "  <tbody>\n",
       "    <tr>\n",
       "      <th>2010-01-04</th>\n",
       "      <td>136.250000</td>\n",
       "      <td>133.139999</td>\n",
       "      <td>136.610001</td>\n",
       "      <td>133.899994</td>\n",
       "      <td>130.000000</td>\n",
       "    </tr>\n",
       "    <tr>\n",
       "      <th>2010-01-05</th>\n",
       "      <td>133.429993</td>\n",
       "      <td>131.809998</td>\n",
       "      <td>135.479996</td>\n",
       "      <td>134.690002</td>\n",
       "      <td>133.520004</td>\n",
       "    </tr>\n",
       "    <tr>\n",
       "      <th>2010-01-06</th>\n",
       "      <td>134.600006</td>\n",
       "      <td>131.649994</td>\n",
       "      <td>134.729996</td>\n",
       "      <td>132.250000</td>\n",
       "      <td>130.309998</td>\n",
       "    </tr>\n",
       "    <tr>\n",
       "      <th>2010-01-07</th>\n",
       "      <td>132.009995</td>\n",
       "      <td>128.800003</td>\n",
       "      <td>132.320007</td>\n",
       "      <td>130.000000</td>\n",
       "      <td>127.349998</td>\n",
       "    </tr>\n",
       "    <tr>\n",
       "      <th>2010-01-08</th>\n",
       "      <td>130.559998</td>\n",
       "      <td>129.029999</td>\n",
       "      <td>133.679993</td>\n",
       "      <td>133.520004</td>\n",
       "      <td>129.110001</td>\n",
       "    </tr>\n",
       "  </tbody>\n",
       "</table>\n",
       "</div>"
      ],
      "text/plain": [
       "                  open         low        high       close       label\n",
       "date                                                                  \n",
       "2010-01-04  136.250000  133.139999  136.610001  133.899994  130.000000\n",
       "2010-01-05  133.429993  131.809998  135.479996  134.690002  133.520004\n",
       "2010-01-06  134.600006  131.649994  134.729996  132.250000  130.309998\n",
       "2010-01-07  132.009995  128.800003  132.320007  130.000000  127.349998\n",
       "2010-01-08  130.559998  129.029999  133.679993  133.520004  129.110001"
      ]
     },
     "execution_count": 128,
     "metadata": {},
     "output_type": "execute_result"
    }
   ],
   "source": [
    "target.head()"
   ]
  },
  {
   "cell_type": "code",
   "execution_count": 129,
   "metadata": {},
   "outputs": [
    {
     "data": {
      "text/plain": [
       "(566, 5)"
      ]
     },
     "execution_count": 129,
     "metadata": {},
     "output_type": "execute_result"
    }
   ],
   "source": [
    "target.shape"
   ]
  },
  {
   "cell_type": "code",
   "execution_count": 130,
   "metadata": {},
   "outputs": [],
   "source": [
    "x,y = target[['open','low','high','close']], target['label']\n",
    "x_scale = preprocessing.StandardScaler()\n",
    "y_scale = preprocessing.StandardScaler()\n",
    "\n",
    "n = 300\n",
    "\n",
    "X_train, X_test, y_train, y_test = x[:n], x[n:], y[:n], y[n:]\n",
    "\n",
    "index = X_test.index\n",
    "\n",
    "X_train = x_scale.fit_transform(X_train.values)\n",
    "X_test = x_scale.transform(X_test.values)\n",
    "\n",
    "y_train = y_scale.fit_transform(y_train.values.reshape(-1,1))\n",
    "y_test = y_scale.transform(y_test.values.reshape(-1,1))\n",
    "\n",
    "X_train = X_train.reshape((-1,1,4))\n",
    "X_test = X_test.reshape((-1,1,4))"
   ]
  },
  {
   "cell_type": "code",
   "execution_count": 61,
   "metadata": {},
   "outputs": [
    {
     "data": {
      "text/plain": [
       "Index(['2013-12-23', '2013-12-24', '2013-12-26', '2013-12-27', '2013-12-30',\n",
       "       '2013-12-31', '2014-01-02', '2014-01-03', '2014-01-06', '2014-01-07'],\n",
       "      dtype='object', name='date')"
      ]
     },
     "execution_count": 61,
     "metadata": {},
     "output_type": "execute_result"
    }
   ],
   "source": [
    "index[:10]"
   ]
  },
  {
   "cell_type": "code",
   "execution_count": 121,
   "metadata": {},
   "outputs": [
    {
     "data": {
      "text/plain": [
       "(1000, 1, 4)"
      ]
     },
     "execution_count": 121,
     "metadata": {},
     "output_type": "execute_result"
    }
   ],
   "source": [
    "X_train.shape"
   ]
  },
  {
   "cell_type": "code",
   "execution_count": 131,
   "metadata": {},
   "outputs": [],
   "source": [
    "model = Sequential()\n",
    "model.add(GRU(units=512, return_sequences=True, input_shape=(1,4)))\n",
    "model.add(Dropout(0.2))\n",
    "model.add(GRU(units=256))\n",
    "model.add(Dropout(0.2))\n",
    "model.add(Dense(1,activation='sigmoid'))\n",
    "model.compile(loss='mse', optimizer='adam')"
   ]
  },
  {
   "cell_type": "code",
   "execution_count": 120,
   "metadata": {},
   "outputs": [
    {
     "name": "stdout",
     "output_type": "stream",
     "text": [
      "_________________________________________________________________\n",
      "Layer (type)                 Output Shape              Param #   \n",
      "=================================================================\n",
      "gru_9 (GRU)                  (None, 1, 512)            794112    \n",
      "_________________________________________________________________\n",
      "dropout_9 (Dropout)          (None, 1, 512)            0         \n",
      "_________________________________________________________________\n",
      "gru_10 (GRU)                 (None, 256)               590592    \n",
      "_________________________________________________________________\n",
      "dropout_10 (Dropout)         (None, 256)               0         \n",
      "_________________________________________________________________\n",
      "dense_5 (Dense)              (None, 1)                 257       \n",
      "=================================================================\n",
      "Total params: 1,384,961\n",
      "Trainable params: 1,384,961\n",
      "Non-trainable params: 0\n",
      "_________________________________________________________________\n"
     ]
    }
   ],
   "source": [
    "model.summary()"
   ]
  },
  {
   "cell_type": "code",
   "execution_count": 132,
   "metadata": {},
   "outputs": [
    {
     "name": "stdout",
     "output_type": "stream",
     "text": [
      "Train on 270 samples, validate on 30 samples\n",
      "Epoch 1/5\n",
      "270/270 [==============================] - 2s 8ms/step - loss: 1.3179 - val_loss: 0.5645\n",
      "Epoch 2/5\n",
      "270/270 [==============================] - 0s 359us/step - loss: 1.1603 - val_loss: 0.4339\n",
      "Epoch 3/5\n",
      "270/270 [==============================] - 0s 359us/step - loss: 1.0076 - val_loss: 0.3353\n",
      "Epoch 4/5\n",
      "270/270 [==============================] - 0s 396us/step - loss: 0.8641 - val_loss: 0.2688\n",
      "Epoch 5/5\n",
      "270/270 [==============================] - 0s 378us/step - loss: 0.7459 - val_loss: 0.2288\n"
     ]
    },
    {
     "data": {
      "text/plain": [
       "<keras.callbacks.History at 0x41020470>"
      ]
     },
     "execution_count": 132,
     "metadata": {},
     "output_type": "execute_result"
    }
   ],
   "source": [
    "model.fit(X_train,y_train,batch_size=250, epochs=5, validation_split=0.1, verbose=1)\n"
   ]
  },
  {
   "cell_type": "code",
   "execution_count": 133,
   "metadata": {},
   "outputs": [
    {
     "name": "stdout",
     "output_type": "stream",
     "text": [
      "266/266 [==============================] - 0s 188us/step\n",
      "Score: 1.9170847889175988\n"
     ]
    }
   ],
   "source": [
    "score = model.evaluate(X_test, y_test)\n",
    "print('Score: {}'.format(score))\n",
    "pred = model.predict(X_test)\n",
    "pred = y_scale.inverse_transform(pred)\n",
    "y_test = y_scale.inverse_transform(y_test)"
   ]
  },
  {
   "cell_type": "code",
   "execution_count": 134,
   "metadata": {},
   "outputs": [
    {
     "data": {
      "text/plain": [
       "array([[192.399994],\n",
       "       [195.039993],\n",
       "       [202.869995],\n",
       "       [205.440002],\n",
       "       [201.160004],\n",
       "       [204.610001],\n",
       "       [202.509995],\n",
       "       [198.050003],\n",
       "       [199.660004],\n",
       "       [193.990005]])"
      ]
     },
     "execution_count": 134,
     "metadata": {},
     "output_type": "execute_result"
    }
   ],
   "source": [
    "y_test[-10:]"
   ]
  },
  {
   "cell_type": "code",
   "execution_count": 135,
   "metadata": {},
   "outputs": [
    {
     "data": {
      "text/plain": [
       "(array([ 6., 13., 72., 51., 36., 25., 33., 13., 12.,  5.]),\n",
       " array([160.970001 , 169.5440016, 178.1180022, 186.6920028, 195.2660034,\n",
       "        203.840004 , 212.4140046, 220.9880052, 229.5620058, 238.1360064,\n",
       "        246.710007 ]),\n",
       " <a list of 10 Patch objects>)"
      ]
     },
     "execution_count": 135,
     "metadata": {},
     "output_type": "execute_result"
    },
    {
     "data": {
      "image/png": "[encoded data removed]",
      "text/plain": [
       "<matplotlib.figure.Figure at 0x41020908>"
      ]
     },
     "metadata": {},
     "output_type": "display_data"
    }
   ],
   "source": [
    "plt.hist(y_test)"
   ]
  },
  {
   "cell_type": "code",
   "execution_count": 136,
   "metadata": {},
   "outputs": [
    {
     "data": {
      "text/plain": [
       "(array([  2.,   5.,   1.,   0.,   4.,   3.,  23.,  49.,  65., 114.]),\n",
       " array([164.03373718, 164.61883698, 165.20393677, 165.78903656,\n",
       "        166.37413635, 166.95923615, 167.54433594, 168.12943573,\n",
       "        168.71453552, 169.29963531, 169.88473511]),\n",
       " <a list of 10 Patch objects>)"
      ]
     },
     "execution_count": 136,
     "metadata": {},
     "output_type": "execute_result"
    },
    {
     "data": {
      "image/png": "[encoded data removed]",
      "text/plain": [
       "<matplotlib.figure.Figure at 0x40fb5630>"
      ]
     },
     "metadata": {},
     "output_type": "display_data"
    }
   ],
   "source": [
    "plt.hist(pred)"
   ]
  },
  {
   "cell_type": "code",
   "execution_count": 113,
   "metadata": {},
   "outputs": [
    {
     "data": {
      "text/plain": [
       "array([[273.22208],\n",
       "       [273.2047 ],\n",
       "       [273.2863 ],\n",
       "       [273.3256 ],\n",
       "       [273.3018 ],\n",
       "       [273.22327],\n",
       "       [273.2354 ],\n",
       "       [273.2569 ],\n",
       "       [273.3049 ],\n",
       "       [273.25385]], dtype=float32)"
      ]
     },
     "execution_count": 113,
     "metadata": {},
     "output_type": "execute_result"
    }
   ],
   "source": [
    "yhat[-10:]"
   ]
  },
  {
   "cell_type": "code",
   "execution_count": 92,
   "metadata": {},
   "outputs": [],
   "source": [
    "# plt.plot(index[-100:], yhat[-100:], label='pred')\n",
    "def plot(x, y):\n",
    "    f, ax = plt.subplots()\n",
    "    ax.plot(x, y, label='truth')\n",
    "    ax.legend()\n",
    "\n",
    "    # years = mdates.YearLocator()   # every year\n",
    "    months = mdates.MonthLocator()  # every month\n",
    "    monthsFmt = mdates.DateFormatter('%Y%m')\n",
    "\n",
    "    ax.xaxis.set_major_locator(months)\n",
    "    ax.xaxis.set_major_formatter(monthsFmt)\n",
    "    # ax.xaxis.set_minor_locator(months)\n",
    "\n",
    "    ax.format_xdata = mdates.DateFormatter('%Y-%m-%d')\n",
    "    # ax.format_ydata = price\n",
    "\n",
    "    f.autofmt_xdate()"
   ]
  },
  {
   "cell_type": "code",
   "execution_count": 137,
   "metadata": {},
   "outputs": [
    {
     "data": {
      "text/html": [
       "<div>\n",
       "<style scoped>\n",
       "    .dataframe tbody tr th:only-of-type {\n",
       "        vertical-align: middle;\n",
       "    }\n",
       "\n",
       "    .dataframe tbody tr th {\n",
       "        vertical-align: top;\n",
       "    }\n",
       "\n",
       "    .dataframe thead th {\n",
       "        text-align: right;\n",
       "    }\n",
       "</style>\n",
       "<table border=\"1\" class=\"dataframe\">\n",
       "  <thead>\n",
       "    <tr style=\"text-align: right;\">\n",
       "      <th></th>\n",
       "      <th>open</th>\n",
       "      <th>low</th>\n",
       "      <th>high</th>\n",
       "      <th>close</th>\n",
       "      <th>label</th>\n",
       "    </tr>\n",
       "    <tr>\n",
       "      <th>date</th>\n",
       "      <th></th>\n",
       "      <th></th>\n",
       "      <th></th>\n",
       "      <th></th>\n",
       "      <th></th>\n",
       "    </tr>\n",
       "  </thead>\n",
       "  <tbody>\n",
       "    <tr>\n",
       "      <th>2012-03-26</th>\n",
       "      <td>196.479996</td>\n",
       "      <td>195.500000</td>\n",
       "      <td>202.970001</td>\n",
       "      <td>202.869995</td>\n",
       "      <td>204.610001</td>\n",
       "    </tr>\n",
       "    <tr>\n",
       "      <th>2012-03-27</th>\n",
       "      <td>203.589996</td>\n",
       "      <td>202.880005</td>\n",
       "      <td>209.850006</td>\n",
       "      <td>205.440002</td>\n",
       "      <td>202.509995</td>\n",
       "    </tr>\n",
       "    <tr>\n",
       "      <th>2012-03-28</th>\n",
       "      <td>206.139999</td>\n",
       "      <td>200.309998</td>\n",
       "      <td>207.000000</td>\n",
       "      <td>201.160004</td>\n",
       "      <td>198.050003</td>\n",
       "    </tr>\n",
       "    <tr>\n",
       "      <th>2012-03-29</th>\n",
       "      <td>201.279999</td>\n",
       "      <td>200.630005</td>\n",
       "      <td>205.309998</td>\n",
       "      <td>204.610001</td>\n",
       "      <td>199.660004</td>\n",
       "    </tr>\n",
       "    <tr>\n",
       "      <th>2012-03-30</th>\n",
       "      <td>205.020004</td>\n",
       "      <td>201.869995</td>\n",
       "      <td>206.850006</td>\n",
       "      <td>202.509995</td>\n",
       "      <td>193.990005</td>\n",
       "    </tr>\n",
       "  </tbody>\n",
       "</table>\n",
       "</div>"
      ],
      "text/plain": [
       "                  open         low        high       close       label\n",
       "date                                                                  \n",
       "2012-03-26  196.479996  195.500000  202.970001  202.869995  204.610001\n",
       "2012-03-27  203.589996  202.880005  209.850006  205.440002  202.509995\n",
       "2012-03-28  206.139999  200.309998  207.000000  201.160004  198.050003\n",
       "2012-03-29  201.279999  200.630005  205.309998  204.610001  199.660004\n",
       "2012-03-30  205.020004  201.869995  206.850006  202.509995  193.990005"
      ]
     },
     "execution_count": 137,
     "metadata": {},
     "output_type": "execute_result"
    }
   ],
   "source": [
    "target.tail()"
   ]
  },
  {
   "cell_type": "code",
   "execution_count": 145,
   "metadata": {},
   "outputs": [
    {
     "data": {
      "text/plain": [
       "array([[172.789993],\n",
       "       [171.669998],\n",
       "       [169.080002],\n",
       "       [166.889999],\n",
       "       [169.050003],\n",
       "       [166.139999],\n",
       "       [168.070007],\n",
       "       [166.729996],\n",
       "       [165.080002],\n",
       "       [164.699997]])"
      ]
     },
     "execution_count": 145,
     "metadata": {},
     "output_type": "execute_result"
    }
   ],
   "source": [
    "y_scale.inverse_transform(y_train[-10:])"
   ]
  },
  {
   "cell_type": "code",
   "execution_count": 138,
   "metadata": {},
   "outputs": [
    {
     "data": {
      "text/plain": [
       "array([[192.399994],\n",
       "       [195.039993],\n",
       "       [202.869995],\n",
       "       [205.440002],\n",
       "       [201.160004],\n",
       "       [204.610001],\n",
       "       [202.509995],\n",
       "       [198.050003],\n",
       "       [199.660004],\n",
       "       [193.990005]])"
      ]
     },
     "execution_count": 138,
     "metadata": {},
     "output_type": "execute_result"
    }
   ],
   "source": [
    "y_test[-10:]"
   ]
  },
  {
   "cell_type": "code",
   "execution_count": 142,
   "metadata": {},
   "outputs": [
    {
     "data": {
      "text/plain": [
       "array([[169.03871],\n",
       "       [168.89339],\n",
       "       [168.72093],\n",
       "       [168.78441],\n",
       "       [169.0755 ],\n",
       "       [169.20866],\n",
       "       [169.13602],\n",
       "       [169.17139],\n",
       "       [167.65239],\n",
       "       [168.14563],\n",
       "       [168.64468],\n",
       "       [168.61145],\n",
       "       [168.49864],\n",
       "       [168.63234],\n",
       "       [168.57147],\n",
       "       [168.61702],\n",
       "       [168.94409],\n",
       "       [169.02142],\n",
       "       [168.84006],\n",
       "       [167.97427],\n",
       "       [168.2883 ],\n",
       "       [168.41351],\n",
       "       [168.2974 ],\n",
       "       [168.02342],\n",
       "       [168.07256],\n",
       "       [167.87498],\n",
       "       [168.28104],\n",
       "       [168.322  ],\n",
       "       [168.05005],\n",
       "       [168.11963],\n",
       "       [168.1141 ],\n",
       "       [168.1758 ],\n",
       "       [168.5087 ],\n",
       "       [168.71626],\n",
       "       [168.6712 ],\n",
       "       [168.52821],\n",
       "       [168.50996],\n",
       "       [168.44067],\n",
       "       [168.43893],\n",
       "       [168.55681],\n",
       "       [168.60616],\n",
       "       [168.90868],\n",
       "       [169.11919],\n",
       "       [169.08768],\n",
       "       [169.18343],\n",
       "       [169.40143],\n",
       "       [169.55507],\n",
       "       [169.51553],\n",
       "       [169.49808],\n",
       "       [169.52446]], dtype=float32)"
      ]
     },
     "execution_count": 142,
     "metadata": {},
     "output_type": "execute_result"
    }
   ],
   "source": [
    "pred[-50:]"
   ]
  },
  {
   "cell_type": "code",
   "execution_count": 140,
   "metadata": {},
   "outputs": [
    {
     "data": {
      "image/png": "[encoded data removed]",
      "text/plain": [
       "<matplotlib.figure.Figure at 0x46e8b6d8>"
      ]
     },
     "metadata": {},
     "output_type": "display_data"
    }
   ],
   "source": [
    "plot(index[-100:], y_test[-100:])"
   ]
  },
  {
   "cell_type": "code",
   "execution_count": 141,
   "metadata": {},
   "outputs": [
    {
     "data": {
      "image/png": "[encoded data removed]",
      "text/plain": [
       "<matplotlib.figure.Figure at 0x4889fe10>"
      ]
     },
     "metadata": {},
     "output_type": "display_data"
    }
   ],
   "source": [
    "plot(index[-100:], pred[-100:])"
   ]
  },
  {
   "cell_type": "markdown",
   "metadata": {},
   "source": [
    "# 总结\n",
    "1. 对震荡可以预测，但是对趋势，无法预测\n",
    "2. 预测结果，都在168，变化很小\n",
    "3. 预测的策略问题，数据集如何划分\n",
    "4. 可不可以自动生成股票价格\n",
    "5. keras"
   ]
  }
 ],
 "metadata": {
  "kernelspec": {
   "display_name": "Python 3",
   "language": "python",
   "name": "python3"
  },
  "language_info": {
   "codemirror_mode": {
    "name": "ipython",
    "version": 3
   },
   "file_extension": ".py",
   "mimetype": "text/x-python",
   "name": "python",
   "nbconvert_exporter": "python",
   "pygments_lexer": "ipython3",
   "version": "3.6.4"
  }
 },
 "nbformat": 4,
 "nbformat_minor": 2
}
