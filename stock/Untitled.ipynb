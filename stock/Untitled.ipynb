{
 "cells": [
  {
   "cell_type": "code",
   "execution_count": 1,
   "metadata": {
    "collapsed": true
   },
   "outputs": [],
   "source": [
    "import requests\n",
    "import pandas as pd"
   ]
  },
  {
   "cell_type": "code",
   "execution_count": 2,
   "metadata": {
    "collapsed": true
   },
   "outputs": [],
   "source": [
    "price = pd.read_csv('d:/data/price.txt', index_col=0)"
   ]
  },
  {
   "cell_type": "code",
   "execution_count": 3,
   "metadata": {},
   "outputs": [
    {
     "data": {
      "text/html": [
       "<div>\n",
       "<style>\n",
       "    .dataframe thead tr:only-child th {\n",
       "        text-align: right;\n",
       "    }\n",
       "\n",
       "    .dataframe thead th {\n",
       "        text-align: left;\n",
       "    }\n",
       "\n",
       "    .dataframe tbody tr th {\n",
       "        vertical-align: top;\n",
       "    }\n",
       "</style>\n",
       "<table border=\"1\" class=\"dataframe\">\n",
       "  <thead>\n",
       "    <tr style=\"text-align: right;\">\n",
       "      <th></th>\n",
       "      <th>open</th>\n",
       "      <th>close</th>\n",
       "      <th>high</th>\n",
       "      <th>low</th>\n",
       "      <th>volume</th>\n",
       "      <th>money</th>\n",
       "      <th>change</th>\n",
       "    </tr>\n",
       "  </thead>\n",
       "  <tbody>\n",
       "    <tr>\n",
       "      <th>2013-12-09</th>\n",
       "      <td>5.46</td>\n",
       "      <td>5.46</td>\n",
       "      <td>5.50</td>\n",
       "      <td>5.43</td>\n",
       "      <td>6209948.0</td>\n",
       "      <td>33837888.0</td>\n",
       "      <td>NaN</td>\n",
       "    </tr>\n",
       "    <tr>\n",
       "      <th>2013-12-10</th>\n",
       "      <td>5.47</td>\n",
       "      <td>5.42</td>\n",
       "      <td>5.51</td>\n",
       "      <td>5.40</td>\n",
       "      <td>7074551.0</td>\n",
       "      <td>38507928.0</td>\n",
       "      <td>-0.007326</td>\n",
       "    </tr>\n",
       "    <tr>\n",
       "      <th>2013-12-11</th>\n",
       "      <td>5.39</td>\n",
       "      <td>5.29</td>\n",
       "      <td>5.41</td>\n",
       "      <td>5.25</td>\n",
       "      <td>8341736.0</td>\n",
       "      <td>44297016.0</td>\n",
       "      <td>-0.023985</td>\n",
       "    </tr>\n",
       "    <tr>\n",
       "      <th>2013-12-12</th>\n",
       "      <td>5.28</td>\n",
       "      <td>5.29</td>\n",
       "      <td>5.31</td>\n",
       "      <td>5.23</td>\n",
       "      <td>6160861.0</td>\n",
       "      <td>32461552.0</td>\n",
       "      <td>0.000000</td>\n",
       "    </tr>\n",
       "    <tr>\n",
       "      <th>2013-12-13</th>\n",
       "      <td>5.23</td>\n",
       "      <td>5.25</td>\n",
       "      <td>5.29</td>\n",
       "      <td>5.22</td>\n",
       "      <td>4770927.0</td>\n",
       "      <td>25088916.0</td>\n",
       "      <td>-0.007561</td>\n",
       "    </tr>\n",
       "  </tbody>\n",
       "</table>\n",
       "</div>"
      ],
      "text/plain": [
       "            open  close  high   low     volume       money    change\n",
       "2013-12-09  5.46   5.46  5.50  5.43  6209948.0  33837888.0       NaN\n",
       "2013-12-10  5.47   5.42  5.51  5.40  7074551.0  38507928.0 -0.007326\n",
       "2013-12-11  5.39   5.29  5.41  5.25  8341736.0  44297016.0 -0.023985\n",
       "2013-12-12  5.28   5.29  5.31  5.23  6160861.0  32461552.0  0.000000\n",
       "2013-12-13  5.23   5.25  5.29  5.22  4770927.0  25088916.0 -0.007561"
      ]
     },
     "execution_count": 3,
     "metadata": {},
     "output_type": "execute_result"
    }
   ],
   "source": [
    "price.head()"
   ]
  },
  {
   "cell_type": "code",
   "execution_count": 4,
   "metadata": {},
   "outputs": [
    {
     "name": "stdout",
     "output_type": "stream",
     "text": [
      "<class 'pandas.core.frame.DataFrame'>\n",
      "Index: 1000 entries, 2013-12-09 to 2018-01-09\n",
      "Data columns (total 7 columns):\n",
      "open      1000 non-null float64\n",
      "close     1000 non-null float64\n",
      "high      1000 non-null float64\n",
      "low       1000 non-null float64\n",
      "volume    1000 non-null float64\n",
      "money     1000 non-null float64\n",
      "change    999 non-null float64\n",
      "dtypes: float64(7)\n",
      "memory usage: 62.5+ KB\n"
     ]
    }
   ],
   "source": [
    "price.info()"
   ]
  },
  {
   "cell_type": "code",
   "execution_count": 5,
   "metadata": {},
   "outputs": [
    {
     "data": {
      "text/plain": [
       "Index(['2013-12-09', '2013-12-10', '2013-12-11', '2013-12-12', '2013-12-13',\n",
       "       '2013-12-16', '2013-12-17', '2013-12-18', '2013-12-19', '2013-12-20',\n",
       "       ...\n",
       "       '2017-12-26', '2017-12-27', '2017-12-28', '2017-12-29', '2018-01-02',\n",
       "       '2018-01-03', '2018-01-04', '2018-01-05', '2018-01-08', '2018-01-09'],\n",
       "      dtype='object', length=1000)"
      ]
     },
     "execution_count": 5,
     "metadata": {},
     "output_type": "execute_result"
    }
   ],
   "source": [
    "price.index"
   ]
  },
  {
   "cell_type": "code",
   "execution_count": 6,
   "metadata": {
    "collapsed": true
   },
   "outputs": [],
   "source": [
    "price.insert(0, 'code', '600111')"
   ]
  },
  {
   "cell_type": "code",
   "execution_count": 7,
   "metadata": {},
   "outputs": [
    {
     "data": {
      "text/html": [
       "<div>\n",
       "<style>\n",
       "    .dataframe thead tr:only-child th {\n",
       "        text-align: right;\n",
       "    }\n",
       "\n",
       "    .dataframe thead th {\n",
       "        text-align: left;\n",
       "    }\n",
       "\n",
       "    .dataframe tbody tr th {\n",
       "        vertical-align: top;\n",
       "    }\n",
       "</style>\n",
       "<table border=\"1\" class=\"dataframe\">\n",
       "  <thead>\n",
       "    <tr style=\"text-align: right;\">\n",
       "      <th></th>\n",
       "      <th>code</th>\n",
       "      <th>open</th>\n",
       "      <th>close</th>\n",
       "      <th>high</th>\n",
       "      <th>low</th>\n",
       "      <th>volume</th>\n",
       "      <th>money</th>\n",
       "      <th>change</th>\n",
       "    </tr>\n",
       "  </thead>\n",
       "  <tbody>\n",
       "    <tr>\n",
       "      <th>2013-12-09</th>\n",
       "      <td>600111</td>\n",
       "      <td>5.46</td>\n",
       "      <td>5.46</td>\n",
       "      <td>5.50</td>\n",
       "      <td>5.43</td>\n",
       "      <td>6209948.0</td>\n",
       "      <td>33837888.0</td>\n",
       "      <td>NaN</td>\n",
       "    </tr>\n",
       "    <tr>\n",
       "      <th>2013-12-10</th>\n",
       "      <td>600111</td>\n",
       "      <td>5.47</td>\n",
       "      <td>5.42</td>\n",
       "      <td>5.51</td>\n",
       "      <td>5.40</td>\n",
       "      <td>7074551.0</td>\n",
       "      <td>38507928.0</td>\n",
       "      <td>-0.007326</td>\n",
       "    </tr>\n",
       "    <tr>\n",
       "      <th>2013-12-11</th>\n",
       "      <td>600111</td>\n",
       "      <td>5.39</td>\n",
       "      <td>5.29</td>\n",
       "      <td>5.41</td>\n",
       "      <td>5.25</td>\n",
       "      <td>8341736.0</td>\n",
       "      <td>44297016.0</td>\n",
       "      <td>-0.023985</td>\n",
       "    </tr>\n",
       "    <tr>\n",
       "      <th>2013-12-12</th>\n",
       "      <td>600111</td>\n",
       "      <td>5.28</td>\n",
       "      <td>5.29</td>\n",
       "      <td>5.31</td>\n",
       "      <td>5.23</td>\n",
       "      <td>6160861.0</td>\n",
       "      <td>32461552.0</td>\n",
       "      <td>0.000000</td>\n",
       "    </tr>\n",
       "    <tr>\n",
       "      <th>2013-12-13</th>\n",
       "      <td>600111</td>\n",
       "      <td>5.23</td>\n",
       "      <td>5.25</td>\n",
       "      <td>5.29</td>\n",
       "      <td>5.22</td>\n",
       "      <td>4770927.0</td>\n",
       "      <td>25088916.0</td>\n",
       "      <td>-0.007561</td>\n",
       "    </tr>\n",
       "  </tbody>\n",
       "</table>\n",
       "</div>"
      ],
      "text/plain": [
       "              code  open  close  high   low     volume       money    change\n",
       "2013-12-09  600111  5.46   5.46  5.50  5.43  6209948.0  33837888.0       NaN\n",
       "2013-12-10  600111  5.47   5.42  5.51  5.40  7074551.0  38507928.0 -0.007326\n",
       "2013-12-11  600111  5.39   5.29  5.41  5.25  8341736.0  44297016.0 -0.023985\n",
       "2013-12-12  600111  5.28   5.29  5.31  5.23  6160861.0  32461552.0  0.000000\n",
       "2013-12-13  600111  5.23   5.25  5.29  5.22  4770927.0  25088916.0 -0.007561"
      ]
     },
     "execution_count": 7,
     "metadata": {},
     "output_type": "execute_result"
    }
   ],
   "source": [
    "price.head()"
   ]
  },
  {
   "cell_type": "code",
   "execution_count": 14,
   "metadata": {},
   "outputs": [],
   "source": [
    "txt = price.to_csv(header=None)\n",
    "r = requests.post('http://140.143.195.110:9999/add', data=txt)"
   ]
  },
  {
   "cell_type": "code",
   "execution_count": null,
   "metadata": {
    "collapsed": true
   },
   "outputs": [],
   "source": []
  }
 ],
 "metadata": {
  "kernelspec": {
   "display_name": "Python 3",
   "language": "python",
   "name": "python3"
  },
  "language_info": {
   "codemirror_mode": {
    "name": "ipython",
    "version": 3
   },
   "file_extension": ".py",
   "mimetype": "text/x-python",
   "name": "python",
   "nbconvert_exporter": "python",
   "pygments_lexer": "ipython3",
   "version": "3.6.1"
  }
 },
 "nbformat": 4,
 "nbformat_minor": 2
}
